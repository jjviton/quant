{
 "cells": [
  {
   "cell_type": "markdown",
   "metadata": {},
   "source": [
    "# <font color='red'>Backtest vectorizado para una estrategia 'Regresion lineal' definida.</font>\n",
    "\n",
    "### Hackeado by J3viton (learning BackTesting 2021)."
   ]
  },
  {
   "cell_type": "markdown",
   "metadata": {},
   "source": [
    "---"
   ]
  },
  {
   "cell_type": "markdown",
   "metadata": {},
   "source": [
    "En este notebook vamos a automatizar el backtesting para estrategias. Previamente tenemos que definir **la estrategia** usando el template (import estrategia_XX as rg), donde definimos la clase estrategia que contiene los metodos de analisis, entreda y salida de mercado. Este módulo se programa y adapta para cada estrategia. Luego en el metodo 'analisis' se crea un fichero excel con las metricas y rendimientos para evaluar la estrategia.\n",
    "\n",
    "Vamos a usar el módulo Pandas, para realizar un backtest vectorizado, es decir calcular el resultado del backtest sin iterar sobre las filas (barras) de la serie temporal."
   ]
  },
  {
   "cell_type": "markdown",
   "metadata": {},
   "source": [
    "Posteriormente graficamos y mostramos los parametros generales que nos permiten analizar la estrategia.\n",
    "\n",
    "#### J3Viton  2021\n",
    "\n",
    "link a la base:\n",
    "\n",
    "https://github.com/Python-para-Trading/Webinars-Docs/blob/master/Webinar%202/Webinar%202%20-%20Backtest%20con%20Pandas%20v%202.ipynb."
   ]
  },
  {
   "cell_type": "markdown",
   "metadata": {},
   "source": [
    "---"
   ]
  },
  {
   "cell_type": "markdown",
   "metadata": {},
   "source": [
    "# DEFINICION DEL SISTEMA"
   ]
  },
  {
   "cell_type": "markdown",
   "metadata": {},
   "source": [
    "Como es usual, importamos los módulos que vamos a necesitar para las distintas tareas, y preparamos Matplotlib para una mejor visualización de los gráficos en el notebook.\n",
    "\n",
    "Se importa un modulo llamado analisis, en realidad se trata de un archivo .py con algunas funciones de apoyo para el trabajo, debe estar guardado en la misma carpeta que este notebook.\n",
    "Se importa el módulo 'estrategia_XX', donde se define la estrategia de entreda y salida"
   ]
  },
  {
   "cell_type": "markdown",
   "metadata": {},
   "source": [
    "Es importante tener clara la lógica del sistema, pues debemos plasmarla de forma sencilla y correcta en el dataframe para realizar el backtest del mismo.\n"
   ]
  },
  {
   "cell_type": "code",
   "execution_count": null,
   "metadata": {
    "scrolled": true
   },
   "outputs": [],
   "source": [
    "import analisis\n",
    "import regresionAMedia as rg  #cambiar segun el módulo con la estrategia implementado\n",
    "import pandas as pd\n",
    "import datetime as dt\n",
    "from time import time\n",
    "import yfinance as yf\n",
    "import numpy as np"
   ]
  },
  {
   "cell_type": "code",
   "execution_count": null,
   "metadata": {},
   "outputs": [],
   "source": [
    "%matplotlib inline\n",
    "import matplotlib.pyplot as plt\n",
    "plt.rcParams['figure.figsize'] = 18, 8\n",
    "plt.style.use('ggplot')\n",
    "\n",
    "from IPython.display import display, Markdown"
   ]
  },
  {
   "cell_type": "markdown",
   "metadata": {},
   "source": [
    "***0.- RECOGIDA DE DATOS INICIALES***\n",
    "Introducimos el instrumento y las fechas\n"
   ]
  },
  {
   "cell_type": "code",
   "execution_count": null,
   "metadata": {},
   "outputs": [],
   "source": [
    "instrumento_ = 'k'   # ticker del valor en yahooFinance\n",
    "\n",
    "Fecha_Cominezo_Backtesting = dt.datetime(2015,1,2)\n",
    "Fecha_Final_Backtesting    = dt.datetime(2022,9,15)\n",
    "Fecha_Final_Backtesting    = dt.datetime.today()\n",
    "\n",
    "\n"
   ]
  },
  {
   "cell_type": "markdown",
   "metadata": {},
   "source": [
    "***1.- Rango fechas a analizar***\n",
    "\n",
    "Definimos el rango global de datos historicos que vamos a evaluar.\n",
    "Definimos la ventana que vamos a ir desplazando por todo el espectro para ir analilazando como se comporta la estrategia. La funion 'analisis' nos vale para tiempo real y para backtesting, para back le pasamos la ventana como si la fecha de fin de la ventana fuera la fecha de hoy.\n",
    "Tener en cuenta que la 'ventana' tiene uqe tener una anchura que nos permita hacer los calculos en rolling (ejemplo EMA 200)"
   ]
  },
  {
   "cell_type": "code",
   "execution_count": null,
   "metadata": {},
   "outputs": [],
   "source": [
    "# Rango completo para backTesting\n",
    "#start2 =dt.datetime(2008,1,2)\n",
    "start2= Fecha_Cominezo_Backtesting \n",
    "#end2   =dt.datetime(2021,11,18)\n",
    "end2= Fecha_Final_Backtesting \n",
    "start_G= start2.strftime(\"%Y-%m-%d\")\n",
    "end_G  =   end2.strftime(\"%Y-%m-%d\")\n",
    "TOTAL_len= (end2-start2).days\n",
    "print('Tamaño timeseries global a analizar:  ', TOTAL_len, 'sesiones')\n",
    "\n",
    "#ventana de analisis 200 sesiones\n",
    "startWindow2 = start2  #dt.datetime(2008,1,5)\n",
    "endWindow2   =startWindow2 + dt.timedelta(days=500) #ventana grande para que se puedan hacer los calculos de EMA200\n",
    "startWindow= startWindow2.strftime(\"%Y-%m-%d\")\n",
    "endWindow  =   endWindow2.strftime(\"%Y-%m-%d\")\n",
    "window_len= (endWindow2-startWindow2).days\n",
    "print('Tamaño de la ventana a analizar paso a paso:  ', window_len, 'sesiones')"
   ]
  },
  {
   "cell_type": "code",
   "execution_count": null,
   "metadata": {},
   "outputs": [],
   "source": [
    " #dff = pd.DataFrame(columns=('Close','Volume', 'Senal', 'Dif_Close', 'Retornos','Capital'))"
   ]
  },
  {
   "cell_type": "markdown",
   "metadata": {},
   "source": [
    "***2.- Descargamos los datos para el marco Global***"
   ]
  },
  {
   "cell_type": "code",
   "execution_count": null,
   "metadata": {},
   "outputs": [],
   "source": [
    "instrumento = instrumento_  # 'rovi.mc'  #Vamos título a título. Mejora: Conjunto de títulos"
   ]
  },
  {
   "cell_type": "code",
   "execution_count": null,
   "metadata": {},
   "outputs": [],
   "source": [
    "dff = yf.download(instrumento, start_G,end_G)"
   ]
  },
  {
   "cell_type": "code",
   "execution_count": null,
   "metadata": {},
   "outputs": [],
   "source": [
    "dff.dropna(inplace=True)  \n",
    "dff.head()"
   ]
  },
  {
   "cell_type": "markdown",
   "metadata": {},
   "source": [
    "***3.- Creamos la clase strategy que tiene toda la lógica***"
   ]
  },
  {
   "cell_type": "code",
   "execution_count": null,
   "metadata": {},
   "outputs": [],
   "source": [
    "regreMedia= rg.StrategyClass(back=True)    #Creamos la clase"
   ]
  },
  {
   "cell_type": "markdown",
   "metadata": {},
   "source": [
    "***4.- Recorremos el dataframe con valores buscando las señales de la estrategia***"
   ]
  },
  {
   "cell_type": "code",
   "execution_count": null,
   "metadata": {},
   "outputs": [],
   "source": [
    "dff.index"
   ]
  },
  {
   "cell_type": "code",
   "execution_count": null,
   "metadata": {},
   "outputs": [],
   "source": [
    "\n"
   ]
  },
  {
   "cell_type": "markdown",
   "metadata": {},
   "source": [
    "## Proceso de backTesting ##\n",
    "\n",
    "En este 'for' vamos recorriendo la muestra del historico de datos (TOTAL), desplazando una sesión hacia el futuro \n",
    "en cada iteracion. Vamos pasando la movilola del pasado sesión a sesión por el análisis descrito en Strategy class.\n",
    "\n",
    "Ouput:\n",
    "El sistema registra los siguientes parámetros:\n",
    "\n",
    ".-\n",
    ".-\n",
    ".-\n"
   ]
  },
  {
   "cell_type": "code",
   "execution_count": null,
   "metadata": {},
   "outputs": [],
   "source": [
    "startWindow"
   ]
  },
  {
   "cell_type": "code",
   "execution_count": null,
   "metadata": {},
   "outputs": [],
   "source": [
    "tiempo_inicial = time()   # Tomamos tiempos para ver cuanto tarda en hacer la estrategia"
   ]
  },
  {
   "cell_type": "code",
   "execution_count": null,
   "metadata": {},
   "outputs": [],
   "source": [
    "dfe = pd.DataFrame({'A' : []})   #df empty"
   ]
  },
  {
   "cell_type": "markdown",
   "metadata": {},
   "source": [
    "***En este 'for' desplazamos la ventana sesión a sesión a lo largo de todo el rango de fechas. Dejamos que las funciones de la clase estrategia hagan el trabajo de comprar//vender y anotar***\n"
   ]
  },
  {
   "cell_type": "code",
   "execution_count": null,
   "metadata": {},
   "outputs": [],
   "source": [
    "#Para pruebas\n",
    "#TOTAL_len =1000\n",
    "\n",
    "for i in range(TOTAL_len):\n",
    "    endWindow3   =endWindow2 + dt.timedelta(days=i) \n",
    "    endWindow    =endWindow3.strftime(\"%Y-%m-%d\")\n",
    "    print ('end date:', endWindow)\n",
    "    \n",
    "    if(endWindow in dff.index):\n",
    "        df_aux= dff.loc[startWindow:endWindow]       #voy pasando los datos desplazando la ventana\n",
    "        \n",
    "        recogo = regreMedia.analisis(instrumento, startWindow, endWindow, df_aux) #Llamada a la clase estrategia. LA CLAVE DE TODO!!!\n",
    "        \n",
    "        print ('................................................Analizando, muestra', i, 'de', TOTAL_len, 'fecha', endWindow)\n",
    "        \n",
    "            \n",
    "    else:\n",
    "        print('..............Día sin sesión, next please')\n",
    "\n",
    "        "
   ]
  },
  {
   "cell_type": "markdown",
   "metadata": {},
   "source": [
    "***Recogemos los datos de las entradas que ha realizado la Estrategia***"
   ]
  },
  {
   "cell_type": "code",
   "execution_count": null,
   "metadata": {},
   "outputs": [],
   "source": [
    "data=rg.StrategyClass.dfLog\n",
    "#data.dropna(inplace=True) "
   ]
  },
  {
   "cell_type": "code",
   "execution_count": null,
   "metadata": {},
   "outputs": [],
   "source": [
    "data.tail()"
   ]
  },
  {
   "cell_type": "code",
   "execution_count": null,
   "metadata": {},
   "outputs": [],
   "source": [
    "data['Senal'].plot(title = 'Señales de compra de la estrategia ' )\n",
    "# Ploteando una parte\n",
    "#data.loc['2010':'2022','Senal'].plot(title = 'Señales Regresión a la media ' +instrumento,xlim=('2010','2022'))"
   ]
  },
  {
   "cell_type": "code",
   "execution_count": null,
   "metadata": {},
   "outputs": [],
   "source": [
    "tiempo_final = time() \n",
    " \n",
    "tiempo_ejecucion = (tiempo_final - tiempo_inicial)/60\n",
    " \n",
    "print ('El tiempo de ejecucion fue:',tiempo_ejecucion,\"minutos\") #En segundos"
   ]
  },
  {
   "cell_type": "code",
   "execution_count": null,
   "metadata": {},
   "outputs": [],
   "source": [
    "data.loc['2011-01-04':'2019-11-04']"
   ]
  },
  {
   "cell_type": "code",
   "execution_count": null,
   "metadata": {},
   "outputs": [],
   "source": [
    "#Guardamos el resultado del analisis en un pickle\n",
    "#dff.to_pickle(\"./primerBack_IBE.pkl\")"
   ]
  },
  {
   "cell_type": "markdown",
   "metadata": {},
   "source": [
    "***3.- Ingeniería de datos para calcular la bondad de la estrategia***"
   ]
  },
  {
   "cell_type": "code",
   "execution_count": null,
   "metadata": {},
   "outputs": [],
   "source": [
    "\n",
    "data['Dif_Close'] = data.Price.pct_change()\n",
    "data['Retornos'] = data.Dif_Close * data.Senal.shift(1)   \n",
    "data['Capital'] = (data.Retornos + 1).cumprod() * 100\n",
    "    \n",
    "rg.StrategyClass.dfLog=data  #Ojo a esta liena, no me cuadra.\n",
    "\n",
    "#quant_j.salvarExcel(StrategyClass.dfLog, \"log\"+instrumento)   \n",
    "#data.to_pickle('almacen')    #df = pd.read_pickle(file_name)"
   ]
  },
  {
   "cell_type": "markdown",
   "metadata": {},
   "source": [
    ">Para calcular los retornos del sistema, calculamos la diferencia relativativa entre el precio de cierre y el del día anterior. Para posteriormente multiplicarlo por la señal que del día anterior que nos indicaba la posición a tomar (si estaba comprado, sumo beneficio)."
   ]
  },
  {
   "cell_type": "code",
   "execution_count": null,
   "metadata": {},
   "outputs": [],
   "source": [
    "data.tail()"
   ]
  },
  {
   "cell_type": "code",
   "execution_count": null,
   "metadata": {},
   "outputs": [],
   "source": [
    "data[60:]"
   ]
  },
  {
   "cell_type": "markdown",
   "metadata": {},
   "source": [
    ">El capital, por comodidad, lo calcularemos en base 100, es decir como si iniciaramos la inversión con 100 unidades monetarias. Para su calculo arrastramos el producto acumulado de los retornos mas 1, multiplicados como dijimos por 100."
   ]
  },
  {
   "cell_type": "markdown",
   "metadata": {},
   "source": [
    "Pero para observar gráficamente la evolución del sistema necesitamos un gráfico con mas información. Para ello definimos una función que nos mostrará un gráfico con la evolución de nuestra estrategia, comparandola con la del activo. En un subgráfico se visualizará el drawdown del sistema, comparado de nuevo con el del activo. Y por útlimo las posiciones que toma el sistema."
   ]
  },
  {
   "cell_type": "code",
   "execution_count": null,
   "metadata": {},
   "outputs": [],
   "source": [
    "def grafico (df):\n",
    "    estudio = df.copy()\n",
    "    \n",
    "    DD_bh, maxDD, maxDD_ini, maxDD_fin = analisis.DrawDown(estudio.Dif_Close[60:], info = False) \n",
    "    \n",
    "    DD, maxDD, maxDD_ini, maxDD_fin = analisis.DrawDown(estudio.Retornos.fillna(0), info = False) \n",
    "\n",
    "    fig, (ax1, ax2, ax3) = plt.subplots(3, 1, sharex=True, figsize=(18, 12), gridspec_kw = {'height_ratios':[3, 1, 1]})\n",
    "    fig.suptitle('Estrategia vs B & H', fontsize=20)\n",
    "\n",
    "    #Primer plot analiza la evolcuion de una inversion de 100€ en buy&hold y la estrategia)\n",
    "    ax1.plot(estudio.Capital)\n",
    "    ax1.plot((estudio.Price) * (100/estudio.Price[1]))\n",
    "    ax1.set_title('Capital')\n",
    "    ax1.legend(['Estrategia','Buy & Hold'])\n",
    "\n",
    "    ax2.plot(DD*100, c='0.5')\n",
    "    ax2.plot(DD_bh*100, c='y')\n",
    "    ax2.fill_between(DD.index, 0, DD*100, color='0.7')\n",
    "    ax2.set_title('Drawdown')\n",
    "    ax2.legend(['Estrategia','Buy & Hold'])\n",
    "\n",
    "    ax3.plot(estudio.Senal, c='orange')\n",
    "    #ax3.fill_between(estudio.index, 0, estudio.Senal*100, color='orange')\n",
    "    ax3.set_title('Posición')\n",
    "\n",
    "    plt.show()\n",
    "    return"
   ]
  },
  {
   "cell_type": "code",
   "execution_count": null,
   "metadata": {},
   "outputs": [],
   "source": [
    "print(instrumento)"
   ]
  },
  {
   "cell_type": "code",
   "execution_count": null,
   "metadata": {},
   "outputs": [],
   "source": [
    "grafico(data)"
   ]
  },
  {
   "cell_type": "markdown",
   "metadata": {},
   "source": [
    "---"
   ]
  },
  {
   "cell_type": "code",
   "execution_count": null,
   "metadata": {
    "scrolled": true
   },
   "outputs": [],
   "source": [
    "#data[55:70]"
   ]
  },
  {
   "cell_type": "markdown",
   "metadata": {},
   "source": [
    "---"
   ]
  },
  {
   "cell_type": "markdown",
   "metadata": {},
   "source": [
    "# ANALISIS DEL SISTEMA"
   ]
  },
  {
   "cell_type": "code",
   "execution_count": null,
   "metadata": {},
   "outputs": [],
   "source": [
    "Beneficio_Bruto = data.Capital[-1] - data.Capital[1]\n",
    "print ('Beneficio Bruto : {:.2f} €  con una inverison de 100€'.format(Beneficio_Bruto))"
   ]
  },
  {
   "cell_type": "code",
   "execution_count": null,
   "metadata": {},
   "outputs": [],
   "source": [
    "#Rentabilidad anual compuesta. Calculamos lo que la inversion se ha incrementado cada año con el interes compuesto\n",
    "CAGR = analisis.CAGR(data.Retornos)\n",
    "print ('CAGR : {:.2f}%'.format(CAGR * 100))"
   ]
  },
  {
   "cell_type": "code",
   "execution_count": null,
   "metadata": {},
   "outputs": [],
   "source": [
    "#Ratio calculado restando una rentabilidad segura a nuestra rentabilidad de estrategia y dividido por el riego (=volatilidad)\n",
    "data.Retornos=data.Retornos.replace(0,np.e)  #Quito los cero (no sepuede hacer logariotmo de cero), pero no se que poner\n",
    "Sharpe = CAGR / (np.log(data.Retornos + 1).std(skipna=True) * 252 ** 0.5)\n",
    "print ('Sharpe : {:.3f}'.format(CAGR ))"
   ]
  },
  {
   "cell_type": "code",
   "execution_count": null,
   "metadata": {},
   "outputs": [],
   "source": [
    "# Actualizo la excel con los economic\n",
    "regreMedia.analisisEconomics(instrumento)"
   ]
  },
  {
   "cell_type": "markdown",
   "metadata": {},
   "source": [
    "---\n"
   ]
  },
  {
   "cell_type": "code",
   "execution_count": null,
   "metadata": {},
   "outputs": [],
   "source": [
    "# "
   ]
  },
  {
   "cell_type": "markdown",
   "metadata": {},
   "source": [
    "### Cálculo esperanza matemática\n",
    " \n",
    " (%Aciertos * beneficioMedio )-(%Errores * perdidaMedia)\n",
    " \n",
    " Nos da idea el benefcio esperado por entrada"
   ]
  },
  {
   "cell_type": "code",
   "execution_count": null,
   "metadata": {},
   "outputs": [],
   "source": [
    "print(\"Numero operaciones con beneficio ->\", \n",
    "      data[data['ExitReason'] ==1]['ExitReason'].count()) \n",
    "print(\"Numero operaciones con perdidas ->\", \n",
    "      data[data['ExitReason'] ==-1]['ExitReason'].count()) \n",
    "  \n",
    "data[data['ExitReason']>0]['ExitReason'] \n",
    "\n",
    "data[data['Senal']>0][1:10]\n",
    "data[data['Senal']>0].index[1]"
   ]
  },
  {
   "cell_type": "code",
   "execution_count": null,
   "metadata": {},
   "outputs": [],
   "source": [
    "# ENTRADAS\n",
    "print (data[(data['Senal']>0) & (data['Beneficio']>0)].index[0])\n",
    "data[(data['Senal']>0) & (data['Beneficio']>0) ][0:5] \n",
    "# SALIDA PERDIDAS\n",
    "print (data[(data['Senal'].shift(1) >0) & (data['ExitReason']== -1)].index[0])\n",
    "data[(data['Senal'].shift(1) >0) & (data['ExitReason']== -1)][0:5]\n",
    "# SALIDA GANANCIAS\n",
    "data[(data['Senal'].shift(1) >0) & (data['ExitReason']== 1)][0:5]"
   ]
  },
  {
   "cell_type": "code",
   "execution_count": null,
   "metadata": {},
   "outputs": [],
   "source": [
    "serieIndicesENTRADA=data[(data['Senal']>0) & (data['Beneficio']>0)].index\n",
    "\n",
    "print(serieIndicesENTRADA.size)\n",
    "\n",
    "serieIndicesENTRADA\n",
    "\n",
    "serieIndicesEXIT=data[(data['ExitReason']==1) | (data['ExitReason']==-1)].index\n",
    "\n",
    "print(serieIndicesEXIT.size)\n",
    "\n",
    "#data['ExitReason'][serieIndicesEXIT[2]]"
   ]
  },
  {
   "cell_type": "code",
   "execution_count": null,
   "metadata": {},
   "outputs": [],
   "source": [
    "serieIndicesENTRADA"
   ]
  },
  {
   "cell_type": "code",
   "execution_count": null,
   "metadata": {},
   "outputs": [],
   "source": [
    "#Cálculo Esperanza Matemática\n",
    "countGanando=0\n",
    "countPerdiendo=0\n",
    "\n",
    "bolsaGanando=0\n",
    "bolsaPerdiendo=0\n",
    "\n",
    "for i in range(serieIndicesEXIT.size):\n",
    "    if(data['ExitReason'][serieIndicesEXIT[i]] == -1):\n",
    "        ref1  = data['Price'][serieIndicesEXIT[i]]\n",
    "        ref2 = data['Price'][serieIndicesENTRADA[i]]\n",
    "        print (\"-1\",ref1, ref2)\n",
    "        countPerdiendo= 1+countPerdiendo\n",
    "        bolsaPerdiendo= bolsaPerdiendo + (ref1-ref2)\n",
    "\n",
    "    \n",
    "    if(data['ExitReason'][serieIndicesEXIT[i]] == 1):\n",
    "        ref1  = data['Price'][serieIndicesEXIT[i]]\n",
    "        ref2 = data['Price'][serieIndicesENTRADA[i]]\n",
    "        print (\"+1\",ref1, ref2)\n",
    "        countGanando= 1+countGanando\n",
    "        bolsaGanando= bolsaGanando + (ref1-ref2)\n",
    "    \n",
    "#(%Aciertos * beneficioMedio )-(%Errores * perdidaMedia)\n",
    "\n",
    "count=countGanando+countPerdiendo\n",
    "\n",
    "\n",
    "print (\"bolsa ganando   --> \", bolsaGanando, \"   Número operaciones ganando   \", countGanando)   \n",
    "print (\"bolsa perdiendo -->\", bolsaPerdiendo, \"   Número operaciones perdiendo\", countPerdiendo) \n",
    "print (\" Media perdiendo --> \", (bolsaPerdiendo/countPerdiendo),\"\\n\", \"Media ganando --> \", (bolsaGanando/countGanando)) \n",
    "\n",
    "\n",
    "esperanza = (countGanando/count *(bolsaGanando/countGanando))+(countPerdiendo/count *(bolsaPerdiendo/countPerdiendo))\n",
    "print(\"\")\n",
    "print(instrumento)\n",
    "print(\"ESPERANZA MATEMATICA ES: \", esperanza)\n",
    "\n"
   ]
  },
  {
   "cell_type": "markdown",
   "metadata": {},
   "source": [
    "---"
   ]
  }
 ],
 "metadata": {
  "anaconda-cloud": {},
  "hide_input": false,
  "kernelspec": {
   "display_name": "Python 3 (ipykernel)",
   "language": "python",
   "name": "python3"
  },
  "language_info": {
   "codemirror_mode": {
    "name": "ipython",
    "version": 3
   },
   "file_extension": ".py",
   "mimetype": "text/x-python",
   "name": "python",
   "nbconvert_exporter": "python",
   "pygments_lexer": "ipython3",
   "version": "3.8.12"
  },
  "varInspector": {
   "cols": {
    "lenName": 16,
    "lenType": 16,
    "lenVar": 40
   },
   "kernels_config": {
    "python": {
     "delete_cmd_postfix": "",
     "delete_cmd_prefix": "del ",
     "library": "var_list.py",
     "varRefreshCmd": "print(var_dic_list())"
    },
    "r": {
     "delete_cmd_postfix": ") ",
     "delete_cmd_prefix": "rm(",
     "library": "var_list.r",
     "varRefreshCmd": "cat(var_dic_list()) "
    }
   },
   "types_to_exclude": [
    "module",
    "function",
    "builtin_function_or_method",
    "instance",
    "_Feature"
   ],
   "window_display": false
  }
 },
 "nbformat": 4,
 "nbformat_minor": 2
}
