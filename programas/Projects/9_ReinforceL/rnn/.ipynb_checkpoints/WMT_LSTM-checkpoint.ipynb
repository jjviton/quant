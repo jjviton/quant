{
 "cells": [
  {
   "cell_type": "markdown",
   "id": "502962a8",
   "metadata": {},
   "source": [
    "## Predicting Walmart's Quarterly Earnings - Pytorch LSTM Example\n",
    "### Applying LSTMs to Predict Quarterly Earnings\n",
    "\n",
    "This is the code accompanying my Medium article which you can find linked in the ReadMe. The code blocks follow the same pattern as those in the article!\n",
    "https://levelup.gitconnected.com/forecasting-walmart-quarterly-revenue-pytorch-lstm-example-b4e4b20862a7"
   ]
  },
  {
   "cell_type": "code",
   "execution_count": 16,
   "id": "b4586235",
   "metadata": {},
   "outputs": [],
   "source": [
    "#-- Necessary Imports\n",
    "import pandas as pd\n",
    "import numpy as np\n",
    "import torch\n",
    "import torch.nn as nn\n",
    "import torch.optim as optim\n",
    "import datetime as dt\n",
    "\n",
    "import matplotlib.pyplot as plt\n",
    "import matplotlib as mpl\n",
    "%matplotlib inline"
   ]
  },
  {
   "cell_type": "code",
   "execution_count": 6,
   "id": "2d853a9f",
   "metadata": {},
   "outputs": [],
   "source": [
    "df = pd.read_csv('WMT_Earnings.csv', index_col='Date')\n",
    "#-- Using this we can select the amount of data to use, some of the very early years \n",
    "#- aren't formatted properly and will throw an error\n",
    "df=df.iloc[:50]\n",
    "#-- Change the dates into a format that pandas will recognise\n",
    "df.index = [df.index[i].split()[0]+\" \"+df.index[i].split()[2] for i in range(len(df.index))]\n",
    "#-- Set index to correct format\n",
    "df.index = pd.to_datetime(df.index)\n",
    "#-- Put the data in chronological order\n",
    "df = df.iloc[::-1]\n",
    "#-- Only select data up to end of 2019\n",
    "df = df[:\"2019\"]\n",
    "#-- Remove the B (standing for billion) from the values and store as float rather than a string\n",
    "df.Value = [float(df.Value[i][:-1]) for i in range(len(df.Value))]"
   ]
  },
  {
   "cell_type": "code",
   "execution_count": 17,
   "id": "52a13ab3",
   "metadata": {},
   "outputs": [
    {
     "data": {
      "text/html": [
       "<div>\n",
       "<style scoped>\n",
       "    .dataframe tbody tr th:only-of-type {\n",
       "        vertical-align: middle;\n",
       "    }\n",
       "\n",
       "    .dataframe tbody tr th {\n",
       "        vertical-align: top;\n",
       "    }\n",
       "\n",
       "    .dataframe thead th {\n",
       "        text-align: right;\n",
       "    }\n",
       "</style>\n",
       "<table border=\"1\" class=\"dataframe\">\n",
       "  <thead>\n",
       "    <tr style=\"text-align: right;\">\n",
       "      <th></th>\n",
       "      <th>Value</th>\n",
       "    </tr>\n",
       "  </thead>\n",
       "  <tbody>\n",
       "    <tr>\n",
       "      <th>2009-04-01</th>\n",
       "      <td>94.24</td>\n",
       "    </tr>\n",
       "    <tr>\n",
       "      <th>2009-07-01</th>\n",
       "      <td>100.88</td>\n",
       "    </tr>\n",
       "    <tr>\n",
       "      <th>2009-10-01</th>\n",
       "      <td>99.37</td>\n",
       "    </tr>\n",
       "    <tr>\n",
       "      <th>2010-01-01</th>\n",
       "      <td>113.62</td>\n",
       "    </tr>\n",
       "    <tr>\n",
       "      <th>2010-04-01</th>\n",
       "      <td>99.81</td>\n",
       "    </tr>\n",
       "  </tbody>\n",
       "</table>\n",
       "</div>"
      ],
      "text/plain": [
       "             Value\n",
       "2009-04-01   94.24\n",
       "2009-07-01  100.88\n",
       "2009-10-01   99.37\n",
       "2010-01-01  113.62\n",
       "2010-04-01   99.81"
      ]
     },
     "execution_count": 17,
     "metadata": {},
     "output_type": "execute_result"
    }
   ],
   "source": [
    "df.head()"
   ]
  },
  {
   "cell_type": "code",
   "execution_count": 7,
   "id": "db36486f",
   "metadata": {},
   "outputs": [],
   "source": [
    "def train_test(df, test_periods):\n",
    "    train = df[:-test_periods].values\n",
    "    test = df[-test_periods:].values\n",
    "    return train, test\n",
    "test_periods = 8\n",
    "train, test = train_test(df, test_periods)"
   ]
  },
  {
   "cell_type": "code",
   "execution_count": 18,
   "id": "9b370170",
   "metadata": {},
   "outputs": [],
   "source": [
    "from sklearn.preprocessing import MinMaxScaler\n",
    "scaler = MinMaxScaler()\n",
    "scaler.fit(train)\n",
    "train_scaled = scaler.transform(train)"
   ]
  },
  {
   "cell_type": "code",
   "execution_count": 19,
   "id": "76e22e59",
   "metadata": {},
   "outputs": [
    {
     "name": "stdout",
     "output_type": "stream",
     "text": [
      "Original dimensions : torch.Size([35, 1])\n",
      "Correct dimensions : torch.Size([35])\n"
     ]
    }
   ],
   "source": [
    "train_scaled = torch.FloatTensor(train_scaled)\n",
    "print(f'Original dimensions : {train_scaled.shape}')\n",
    "train_scaled = train_scaled.view(-1)\n",
    "print(f'Correct dimensions : {train_scaled.shape}')"
   ]
  },
  {
   "cell_type": "code",
   "execution_count": 24,
   "id": "30a62951",
   "metadata": {},
   "outputs": [
    {
     "name": "stdout",
     "output_type": "stream",
     "text": [
      "torch.Size([11, 16])\n",
      "torch.Size([11, 8])\n"
     ]
    }
   ],
   "source": [
    "def get_x_y_pairs(train_scaled, train_periods, prediction_periods):\n",
    "    \"\"\"\n",
    "    train_scaled - training sequence\n",
    "    train_periods - How many data points to use as inputs\n",
    "    prediction_periods - How many periods to ouput as predictions\n",
    "    \"\"\"\n",
    "    x_train = [train_scaled[i:i+train_periods] for i in range(len(train_scaled)-train_periods-prediction_periods)]\n",
    "    y_train = [train_scaled[i+train_periods:i+train_periods+prediction_periods] for i in range(len(train_scaled)-train_periods-prediction_periods)]\n",
    "    \n",
    "    #-- use the stack function to convert the list of 1D tensors\n",
    "    # into a 2D tensor where each element of the list is now a row\n",
    "    x_train = torch.stack(x_train)\n",
    "    y_train = torch.stack(y_train)\n",
    "    \n",
    "    return x_train, y_train\n",
    "\n",
    "train_periods = 16 #-- number of quarters for input\n",
    "prediction_periods = test_periods\n",
    "x_train, y_train = get_x_y_pairs(train_scaled, train_periods, prediction_periods)\n",
    "print(x_train.shape)\n",
    "print(y_train.shape)"
   ]
  },
  {
   "cell_type": "code",
   "execution_count": 33,
   "id": "fee077cf",
   "metadata": {},
   "outputs": [
    {
     "data": {
      "text/plain": [
       "tensor([0.0000, 0.1779, 0.1375, 0.5193, 0.1492, 0.2543, 0.2066, 0.5927, 0.2666,\n",
       "        0.4054, 0.4285, 0.7634, 0.5029, 0.5370, 0.5241, 0.8987, 0.5314, 0.6053,\n",
       "        0.5748, 0.9504, 0.5552, 0.6935, 0.6635, 1.0000, 0.5517, 0.6964, 0.6208,\n",
       "        0.9494, 0.5804, 0.7130, 0.6415, 0.9834, 0.6243, 0.7803, 0.7755])"
      ]
     },
     "execution_count": 33,
     "metadata": {},
     "output_type": "execute_result"
    }
   ],
   "source": [
    "train_scaled"
   ]
  },
  {
   "cell_type": "code",
   "execution_count": 34,
   "id": "6b2b9a06",
   "metadata": {},
   "outputs": [
    {
     "data": {
      "text/plain": [
       "tensor([[0.0000, 0.1779, 0.1375, 0.5193, 0.1492, 0.2543, 0.2066, 0.5927, 0.2666,\n",
       "         0.4054, 0.4285, 0.7634, 0.5029, 0.5370, 0.5241, 0.8987],\n",
       "        [0.1779, 0.1375, 0.5193, 0.1492, 0.2543, 0.2066, 0.5927, 0.2666, 0.4054,\n",
       "         0.4285, 0.7634, 0.5029, 0.5370, 0.5241, 0.8987, 0.5314],\n",
       "        [0.1375, 0.5193, 0.1492, 0.2543, 0.2066, 0.5927, 0.2666, 0.4054, 0.4285,\n",
       "         0.7634, 0.5029, 0.5370, 0.5241, 0.8987, 0.5314, 0.6053],\n",
       "        [0.5193, 0.1492, 0.2543, 0.2066, 0.5927, 0.2666, 0.4054, 0.4285, 0.7634,\n",
       "         0.5029, 0.5370, 0.5241, 0.8987, 0.5314, 0.6053, 0.5748],\n",
       "        [0.1492, 0.2543, 0.2066, 0.5927, 0.2666, 0.4054, 0.4285, 0.7634, 0.5029,\n",
       "         0.5370, 0.5241, 0.8987, 0.5314, 0.6053, 0.5748, 0.9504],\n",
       "        [0.2543, 0.2066, 0.5927, 0.2666, 0.4054, 0.4285, 0.7634, 0.5029, 0.5370,\n",
       "         0.5241, 0.8987, 0.5314, 0.6053, 0.5748, 0.9504, 0.5552],\n",
       "        [0.2066, 0.5927, 0.2666, 0.4054, 0.4285, 0.7634, 0.5029, 0.5370, 0.5241,\n",
       "         0.8987, 0.5314, 0.6053, 0.5748, 0.9504, 0.5552, 0.6935],\n",
       "        [0.5927, 0.2666, 0.4054, 0.4285, 0.7634, 0.5029, 0.5370, 0.5241, 0.8987,\n",
       "         0.5314, 0.6053, 0.5748, 0.9504, 0.5552, 0.6935, 0.6635],\n",
       "        [0.2666, 0.4054, 0.4285, 0.7634, 0.5029, 0.5370, 0.5241, 0.8987, 0.5314,\n",
       "         0.6053, 0.5748, 0.9504, 0.5552, 0.6935, 0.6635, 1.0000],\n",
       "        [0.4054, 0.4285, 0.7634, 0.5029, 0.5370, 0.5241, 0.8987, 0.5314, 0.6053,\n",
       "         0.5748, 0.9504, 0.5552, 0.6935, 0.6635, 1.0000, 0.5517],\n",
       "        [0.4285, 0.7634, 0.5029, 0.5370, 0.5241, 0.8987, 0.5314, 0.6053, 0.5748,\n",
       "         0.9504, 0.5552, 0.6935, 0.6635, 1.0000, 0.5517, 0.6964]])"
      ]
     },
     "execution_count": 34,
     "metadata": {},
     "output_type": "execute_result"
    }
   ],
   "source": [
    "\n",
    "x_train"
   ]
  },
  {
   "cell_type": "code",
   "execution_count": 35,
   "id": "db0411fb",
   "metadata": {},
   "outputs": [
    {
     "data": {
      "text/plain": [
       "tensor([[0.5314, 0.6053, 0.5748, 0.9504, 0.5552, 0.6935, 0.6635, 1.0000],\n",
       "        [0.6053, 0.5748, 0.9504, 0.5552, 0.6935, 0.6635, 1.0000, 0.5517],\n",
       "        [0.5748, 0.9504, 0.5552, 0.6935, 0.6635, 1.0000, 0.5517, 0.6964],\n",
       "        [0.9504, 0.5552, 0.6935, 0.6635, 1.0000, 0.5517, 0.6964, 0.6208],\n",
       "        [0.5552, 0.6935, 0.6635, 1.0000, 0.5517, 0.6964, 0.6208, 0.9494],\n",
       "        [0.6935, 0.6635, 1.0000, 0.5517, 0.6964, 0.6208, 0.9494, 0.5804],\n",
       "        [0.6635, 1.0000, 0.5517, 0.6964, 0.6208, 0.9494, 0.5804, 0.7130],\n",
       "        [1.0000, 0.5517, 0.6964, 0.6208, 0.9494, 0.5804, 0.7130, 0.6415],\n",
       "        [0.5517, 0.6964, 0.6208, 0.9494, 0.5804, 0.7130, 0.6415, 0.9834],\n",
       "        [0.6964, 0.6208, 0.9494, 0.5804, 0.7130, 0.6415, 0.9834, 0.6243],\n",
       "        [0.6208, 0.9494, 0.5804, 0.7130, 0.6415, 0.9834, 0.6243, 0.7803]])"
      ]
     },
     "execution_count": 35,
     "metadata": {},
     "output_type": "execute_result"
    }
   ],
   "source": [
    "y_train\n",
    "#y_train"
   ]
  },
  {
   "cell_type": "code",
   "execution_count": 11,
   "id": "1662f1d4",
   "metadata": {},
   "outputs": [],
   "source": [
    "class LSTM(nn.Module):\n",
    "    \"\"\"\n",
    "    input_size - will be 1 in this example since we have only 1 predictor (a sequence of previous values)\n",
    "    hidden_size - Can be chosen to dictate how much hidden \"long term memory\" the network will have\n",
    "    output_size - This will be equal to the prediciton_periods input to get_x_y_pairs\n",
    "    \"\"\"\n",
    "    def __init__(self, input_size, hidden_size, output_size):\n",
    "        super(LSTM, self).__init__()\n",
    "        self.hidden_size = hidden_size\n",
    "        \n",
    "        self.lstm = nn.LSTM(input_size, hidden_size)\n",
    "        \n",
    "        self.linear = nn.Linear(hidden_size, output_size)\n",
    "        \n",
    "    def forward(self, x, hidden=None):\n",
    "        if hidden==None:\n",
    "            self.hidden = (torch.zeros(1,1,self.hidden_size),\n",
    "                           torch.zeros(1,1,self.hidden_size))\n",
    "        else:\n",
    "            self.hidden = hidden\n",
    "            \n",
    "        \"\"\"\n",
    "        inputs need to be in the right shape as defined in documentation\n",
    "        - https://pytorch.org/docs/stable/generated/torch.nn.LSTM.html\n",
    "        \n",
    "        lstm_out - will contain the hidden states from all times in the sequence\n",
    "        self.hidden - will contain the current hidden state and cell state\n",
    "        \"\"\"\n",
    "        lstm_out, self.hidden = self.lstm(x.view(len(x),1,-1), \n",
    "                                          self.hidden)\n",
    "        \n",
    "        predictions = self.linear(lstm_out.view(len(x), -1))\n",
    "        \n",
    "        return predictions[-1], self.hidden"
   ]
  },
  {
   "cell_type": "code",
   "execution_count": 20,
   "id": "8ed3a60a",
   "metadata": {},
   "outputs": [
    {
     "data": {
      "text/plain": [
       "8"
      ]
     },
     "execution_count": 20,
     "metadata": {},
     "output_type": "execute_result"
    }
   ],
   "source": [
    "test_periods\n"
   ]
  },
  {
   "cell_type": "code",
   "execution_count": 21,
   "id": "bd96e971",
   "metadata": {},
   "outputs": [],
   "source": [
    "model = LSTM(input_size=1, hidden_size=50, output_size=test_periods)\n",
    "criterion = nn.MSELoss()\n",
    "optimizer = optim.Adam(model.parameters(), lr=0.001)"
   ]
  },
  {
   "cell_type": "code",
   "execution_count": 22,
   "id": "a1973cd5",
   "metadata": {},
   "outputs": [
    {
     "name": "stdout",
     "output_type": "stream",
     "text": [
      "epoch:    0 loss:0.50714558\n",
      "epoch:  100 loss:0.01227574\n",
      "epoch:  200 loss:0.00082874\n",
      "epoch:  300 loss:0.00046377\n",
      "epoch:  400 loss:0.00043650\n",
      "epoch:  500 loss:0.00038887\n",
      "epoch:  600 loss:0.00025078\n"
     ]
    }
   ],
   "source": [
    "epochs = 600\n",
    "model.train()\n",
    "for epoch in range(epochs+1):\n",
    "    for x,y in zip(x_train, y_train):\n",
    "        y_hat, _ = model(x, None)\n",
    "        optimizer.zero_grad()\n",
    "        loss = criterion(y_hat, y)\n",
    "        loss.backward()\n",
    "        optimizer.step()\n",
    "        \n",
    "    if epoch%100==0:\n",
    "        print(f'epoch: {epoch:4} loss:{loss.item():10.8f}')"
   ]
  },
  {
   "cell_type": "code",
   "execution_count": 14,
   "id": "5d14fcc4",
   "metadata": {},
   "outputs": [],
   "source": [
    "model.eval()\n",
    "with torch.no_grad():\n",
    "    predictions, _ = model(train_scaled[-train_periods:], None)\n",
    "#-- Apply inverse transform to undo scaling\n",
    "predictions = scaler.inverse_transform(np.array(predictions.reshape(-1,1)))"
   ]
  },
  {
   "cell_type": "code",
   "execution_count": 15,
   "id": "435a4469",
   "metadata": {},
   "outputs": [
    {
     "data": {
      "image/png": "[encoded data removed]",
      "text/plain": [
       "<Figure size 1000x500 with 1 Axes>"
      ]
     },
     "metadata": {},
     "output_type": "display_data"
    }
   ],
   "source": [
    "x = [dt.datetime.date(d) for d in df.index]\n",
    "font = {'size'   : 15}\n",
    "\n",
    "mpl.rc('font', **font)\n",
    "fig = plt.figure(figsize=(10,5))\n",
    "plt.title('Walmart Quarterly Revenue')\n",
    "plt.ylabel('Revenue (Billions)')\n",
    "plt.grid(True)\n",
    "plt.plot(x[:-len(predictions)],\n",
    "         df.Value[:-len(predictions)],\n",
    "         \"b-\")\n",
    "plt.plot(x[-len(predictions):],\n",
    "         df.Value[-len(predictions):],\n",
    "         \"b--\",\n",
    "         label='True Values')\n",
    "plt.plot(x[-len(predictions):],\n",
    "         predictions,\n",
    "         \"r-\",\n",
    "         label='Predicted Values')\n",
    "plt.legend()\n",
    "plt.savefig('plot1', dpi=600)"
   ]
  },
  {
   "cell_type": "code",
   "execution_count": null,
   "id": "b4fe3e8a",
   "metadata": {},
   "outputs": [],
   "source": []
  }
 ],
 "metadata": {
  "hide_input": false,
  "kernelspec": {
   "display_name": "Python 3 (ipykernel)",
   "language": "python",
   "name": "python3"
  },
  "language_info": {
   "codemirror_mode": {
    "name": "ipython",
    "version": 3
   },
   "file_extension": ".py",
   "mimetype": "text/x-python",
   "name": "python",
   "nbconvert_exporter": "python",
   "pygments_lexer": "ipython3",
   "version": "3.9.13"
  },
  "varInspector": {
   "cols": {
    "lenName": 16,
    "lenType": 16,
    "lenVar": 40
   },
   "kernels_config": {
    "python": {
     "delete_cmd_postfix": "",
     "delete_cmd_prefix": "del ",
     "library": "var_list.py",
     "varRefreshCmd": "print(var_dic_list())"
    },
    "r": {
     "delete_cmd_postfix": ") ",
     "delete_cmd_prefix": "rm(",
     "library": "var_list.r",
     "varRefreshCmd": "cat(var_dic_list()) "
    }
   },
   "types_to_exclude": [
    "module",
    "function",
    "builtin_function_or_method",
    "instance",
    "_Feature"
   ],
   "window_display": false
  }
 },
 "nbformat": 4,
 "nbformat_minor": 5
}
