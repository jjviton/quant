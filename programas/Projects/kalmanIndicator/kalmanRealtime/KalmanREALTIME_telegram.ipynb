{
 "cells": [
  {
   "cell_type": "markdown",
   "id": "218172f2",
   "metadata": {},
   "source": [
    "# KALMAN REAL TIME con Telegram"
   ]
  },
  {
   "cell_type": "markdown",
   "id": "9ca12a2f",
   "metadata": {},
   "source": [
    "Este cuaderno implementa una estrategia de inversion basada en Kalman como indicador.\n",
    "\n",
    "Busca señales de entrada y las envía el Telegram para su analisis.\n",
    "\n",
    "GRAFICADOR PLOTLY:  muy bueno como hace velas ( esta abajo desconectado del resto)\n",
    "\n",
    "info: https://medium.com/analytics-vidhya/understanding-and-implementing-kalman-filter-in-python-for-pairs-trading-9b8986d79b2d\n",
    "\n",
    "\n"
   ]
  },
  {
   "cell_type": "markdown",
   "id": "c39ecadc",
   "metadata": {},
   "source": [
    "Status: <font color='red'>Funcionando !!!  v0.0    10/01/2022<font>"
   ]
  },
  {
   "cell_type": "code",
   "execution_count": null,
   "id": "fc1724ad",
   "metadata": {},
   "outputs": [],
   "source": [
    "# Raw Package\n",
    "import numpy as np\n",
    "import pandas as pd\n",
    "\n",
    "#Data Source\n",
    "import yfinance as yf\n",
    "\n",
    "#Data viz\n",
    "import plotly.graph_objs as go\n"
   ]
  },
  {
   "cell_type": "code",
   "execution_count": null,
   "id": "716550ce",
   "metadata": {},
   "outputs": [],
   "source": [
    "import analisis\n",
    "import kalman as kl  #cambiar segun el módulo con la estrategia implementado\n",
    "import pandas as pd\n",
    "import datetime as dt\n",
    "from time import time\n",
    "from time import sleep\n",
    "import yfinance as yf\n",
    "import numpy as np\n",
    "from telegram_bot import *\n",
    "\n",
    "dentro =True\n",
    "fuera  =False"
   ]
  },
  {
   "cell_type": "code",
   "execution_count": null,
   "id": "1aa9fd1d",
   "metadata": {},
   "outputs": [],
   "source": [
    "kalman= kl.StrategyClass(real_back=True)    #Creamos la clase\n",
    "import quant_j3_lib as quant_j3\n"
   ]
  },
  {
   "cell_type": "code",
   "execution_count": null,
   "id": "7366f310",
   "metadata": {},
   "outputs": [],
   "source": [
    "telegram_send(\"3.- Señal Kalman RealTime b0.1n  \")"
   ]
  },
  {
   "cell_type": "code",
   "execution_count": null,
   "id": "e16ef8df",
   "metadata": {},
   "outputs": [],
   "source": [
    "\n",
    "#Interval required 1 minute\n",
    "data = yf.download(tickers='corn', period='3mo', interval='1h')  #15m"
   ]
  },
  {
   "cell_type": "code",
   "execution_count": null,
   "id": "c9dff74f",
   "metadata": {},
   "outputs": [],
   "source": [
    "data"
   ]
  },
  {
   "cell_type": "code",
   "execution_count": null,
   "id": "8693445a",
   "metadata": {},
   "outputs": [],
   "source": []
  },
  {
   "cell_type": "code",
   "execution_count": null,
   "id": "a905c81b",
   "metadata": {},
   "outputs": [],
   "source": [
    "data['Kalman']= quant_j3.kalmanIndicator(data,paraA_=200,paraB_=50,instrumento=\"_\")"
   ]
  },
  {
   "cell_type": "code",
   "execution_count": null,
   "id": "2c1c7f6d",
   "metadata": {},
   "outputs": [],
   "source": [
    "data2= quant_j3.MovingAverage(data,long_=200,short_=50)"
   ]
  },
  {
   "cell_type": "code",
   "execution_count": null,
   "id": "4872a58b",
   "metadata": {},
   "outputs": [],
   "source": [
    "data2.head()"
   ]
  },
  {
   "cell_type": "code",
   "execution_count": null,
   "id": "c466f537",
   "metadata": {},
   "outputs": [],
   "source": [
    "data= quant_j3.MovingAverage(data,long_=200,short_=50)"
   ]
  },
  {
   "cell_type": "code",
   "execution_count": null,
   "id": "6c5d3d7a",
   "metadata": {},
   "outputs": [],
   "source": [
    "# 1.- MEDIA DE 200 SESIONES ACCENDENTE\n",
    "#   Calculamos de la media aritmetica la regresion lineal para ver la esencia\n",
    "ma200_=data.columns.get_loc(\"MA_200\")\n",
    "data_aux2= data.iloc[-200:, ma200_]\n",
    "data_aux2.dropna(inplace=True)  \n",
    "# 3.1.- Calculamos media de las ultimas 'n' sesiones y la regresion lineal\n",
    "coef_ema200_, intercept_ema200_ =quant_j3.linearRegresion_J3(data_aux2) #+'  de ema200') "
   ]
  },
  {
   "cell_type": "code",
   "execution_count": null,
   "id": "85bc276c",
   "metadata": {},
   "outputs": [],
   "source": []
  },
  {
   "cell_type": "code",
   "execution_count": null,
   "id": "2f412ce1",
   "metadata": {},
   "outputs": [],
   "source": [
    "data.tail()"
   ]
  },
  {
   "cell_type": "code",
   "execution_count": null,
   "id": "b742d1ad",
   "metadata": {},
   "outputs": [],
   "source": [
    "# borrar una columna  \n",
    "del data[\"Adj Close\"]"
   ]
  },
  {
   "cell_type": "code",
   "execution_count": null,
   "id": "ff04fa91",
   "metadata": {},
   "outputs": [],
   "source": [
    "print (data)"
   ]
  },
  {
   "cell_type": "code",
   "execution_count": null,
   "id": "171b58c2",
   "metadata": {},
   "outputs": [],
   "source": [
    "indiceLast_ = (len(data)-1)  "
   ]
  },
  {
   "cell_type": "code",
   "execution_count": null,
   "id": "e9e46d4b",
   "metadata": {},
   "outputs": [],
   "source": [
    "indiceLast_"
   ]
  },
  {
   "cell_type": "code",
   "execution_count": null,
   "id": "47002fc0",
   "metadata": {},
   "outputs": [],
   "source": [
    "#print (data.iloc[indiceLast_][kalman_])"
   ]
  },
  {
   "cell_type": "code",
   "execution_count": null,
   "id": "0fc8c956",
   "metadata": {},
   "outputs": [],
   "source": []
  },
  {
   "cell_type": "code",
   "execution_count": null,
   "id": "cc6497c2",
   "metadata": {},
   "outputs": [],
   "source": [
    "price_ = data.columns.get_loc(\"Close\")  \n",
    "kalman_ = data.columns.get_loc(\"Kalman\")  \n",
    "volumen_ = data.columns.get_loc(\"Volume\") "
   ]
  },
  {
   "cell_type": "code",
   "execution_count": null,
   "id": "ed58477a",
   "metadata": {},
   "outputs": [],
   "source": [
    "contador =0\n",
    "señal =False\n",
    "for i in range(5):\n",
    "    #Precio por encima de Kalman cuento uno en el contador\n",
    "    if (data.iloc[(indiceLast_-i),price_] > data.iloc[(indiceLast_),kalman_]):\n",
    "        contador += 1\n",
    "        data.iloc[(indiceLast_-i),volumen_] =99.0\n",
    "\n",
    "if (contador > 2): \n",
    "    señal=True"
   ]
  },
  {
   "cell_type": "code",
   "execution_count": null,
   "id": "4443c531",
   "metadata": {},
   "outputs": [],
   "source": []
  },
  {
   "cell_type": "code",
   "execution_count": null,
   "id": "110cee08",
   "metadata": {},
   "outputs": [],
   "source": [
    "def checkKalman(instrumento_ ='app'):\n",
    "    #Interval required 1 minute\n",
    "    try:\n",
    "        data = yf.download(tickers=instrumento_, period='3mo', interval='1h')  #  1h 3mo 15m https://algotrading101.com/learn/yfinance-guide/\n",
    "    except:\n",
    "        print('instrumento no existe')\n",
    "    \n",
    "    del data[\"Adj Close\"]\n",
    "    data['Kalman']= quant_j3.kalmanIndicator(data,paraA_=200,paraB_=50,instrumento=instrumento_)\n",
    "\n",
    "    indiceLast_ = (len(data)-2)    ### ojo parece que da la ultima version cotizada, no la ultima hora\n",
    "    price_ = data.columns.get_loc(\"Close\")  \n",
    "    kalman_ = data.columns.get_loc(\"Kalman\")  \n",
    "    volumen_ = data.columns.get_loc(\"Volume\") \n",
    "    open_ = data.columns.get_loc(\"Open\")  \n",
    "\n",
    "\n",
    "    print(instrumento_)\n",
    "    \n",
    "    contador =0\n",
    "    señal =fuera\n",
    "    \n",
    "    # Compruebo Kalman\n",
    "    # Según la estrategia tenemos que buscar, dos velas alcistas no necesariamente consecutivas entre una ventana anterior. \n",
    "    # estas velas alcistas detras de una condicion de reset (dos velas rojas por debajo kalman)\n",
    "    \n",
    "    for i in range(6):\n",
    "        #vela verde por encima de kalman entera\n",
    "        if (data.iloc[(indiceLast_-i),price_] > data.iloc[(indiceLast_),kalman_]  and  \n",
    "            data.iloc[(indiceLast_-i),open_] > data.iloc[(indiceLast_),kalman_]  and\n",
    "            data.iloc[(indiceLast_-i),price_] > data.iloc[(indiceLast_),open_]):\n",
    "            contador += 1\n",
    "            data.iloc[(indiceLast_-i),volumen_] =99.0\n",
    "    #tres velas verdes y la ultima verde\n",
    "    if (contador > 2  and\n",
    "       data.iloc[(indiceLast_),price_] > data.iloc[(indiceLast_),kalman_]  and \n",
    "       data.iloc[(indiceLast_-i),open_] > data.iloc[(indiceLast_),kalman_] ): \n",
    "        señal=dentro \n",
    "    \n",
    "    #Compruebo Media 200 velas positiva\n",
    "    #quant_j3.MovingAverage(data,long_=200,short_=50)\n",
    "    data2= quant_j3.MovingAverage(data,long_=200,short_=50)\n",
    "    # 1.- MEDIA DE 200 SESIONES ACCENDENTE\n",
    "    #   Calculamos de la media aritmetica la regresion lineal para ver la esencia\n",
    "    ma200_=data2.columns.get_loc(\"MA_200\")\n",
    "    data_aux2= data2.iloc[-200:, ma200_]\n",
    "    data_aux2.dropna(inplace=True)  \n",
    "    # 3.1.- Calculamos media de las ultimas 'n' sesiones y la regresion lineal\n",
    "    coef_ema200_, intercept_ema200_ =quant_j3.linearRegresion_J3(data_aux2) #+'  de ema200') \n",
    "    \n",
    "    #pendiente positiva y vela por encima media200\n",
    "    \"\"\"\n",
    "    if (señal ==dentro):\n",
    "        if (coef_ema200_ > 0  and \n",
    "            data.iloc[(indiceLast_),price_] > data_aux2[-1] and \n",
    "            data.iloc[(indiceLast_-i),open_] > data_aux2[-1] ): \n",
    "           \n",
    "            señal=dentro     \n",
    "        else:\n",
    "            señal =fuera\n",
    "    \"\"\"\n",
    "   \n",
    "    print(instrumento_,señal)\n",
    "    print ('Precio', data.iloc[(indiceLast_-i),price_], '*************  ''Kalman', data.iloc[(indiceLast_-i),kalman_])\n",
    "    print ('checkIN Time',data.index[indiceLast_])\n",
    "    \n",
    "    if (señal ==dentro):\n",
    "        print ('Entramos del mercado')\n",
    "        telegram_send(\"3.Señal Kalman (1hora)b1.0.\\n\"+ instrumento_ +\"\\nPrecio = \" + str(data.iloc[(indiceLast_-i),price_]) + \"\\n***  Kalman level = \"+ str(data.iloc[(indiceLast_-i),kalman_])+\n",
    "                     \"\\nTime: \" + str(data.index[indiceLast_]))\n",
    "        sleep(5)\n",
    "        \n",
    "        \n",
    "    \n",
    "    return señal\n",
    "    "
   ]
  },
  {
   "cell_type": "code",
   "execution_count": null,
   "id": "c7f2c1c5",
   "metadata": {},
   "outputs": [],
   "source": [
    "def checkKalman_OUT(instrumento_ ='app'):\n",
    "    #Interval required 1 minute\n",
    "    try:\n",
    "        data = yf.download(tickers=instrumento_, period='3mo', interval='1h')  #5m\n",
    "    except:\n",
    "        print('instrumento no existe')\n",
    "    \n",
    "    del data[\"Adj Close\"]\n",
    "    data['Kalman']= quant_j3.kalmanIndicator(data,paraA_=200,paraB_=50,instrumento=instrumento_)\n",
    "\n",
    "    indiceLast_ = (len(data)-2)    ### ojo parece que da la ultima version cotizada, no la ultima hora\n",
    "    price_ = data.columns.get_loc(\"Close\")  \n",
    "    kalman_ = data.columns.get_loc(\"Kalman\")  \n",
    "    volumen_ = data.columns.get_loc(\"Volume\") \n",
    "    open_ = data.columns.get_loc(\"Open\")  \n",
    "\n",
    "    print(instrumento_)\n",
    "    \n",
    "    contador =0\n",
    "    señal =dentro\n",
    "    \n",
    "    # Compruebo Kalman\n",
    "    # Borro la señal si dos velas por debajo de kalman\n",
    "    \n",
    "    for i in range(5):\n",
    "        #Precio por debajo de Kalman cuento uno en el contador\n",
    "        if (data.iloc[(indiceLast_-i),price_] < data.iloc[(indiceLast_),kalman_] and\n",
    "           data.iloc[(indiceLast_-i),open_] < data.iloc[(indiceLast_),kalman_] and\n",
    "           data.iloc[(indiceLast_-i),price_] < data.iloc[(indiceLast_),open_]):\n",
    "            contador += 1\n",
    "            data.iloc[(indiceLast_-i),volumen_] =99.0\n",
    "    if (contador > 3): \n",
    "        señal=fuera\n",
    "        print ('Salimos del mercado')\n",
    "    \n",
    "    \n",
    "    \n",
    "    print(instrumento_,señal)\n",
    "\n",
    "    print ('checkOUT Time',data.index[indiceLast_])\n",
    "\n",
    "    return señal"
   ]
  },
  {
   "cell_type": "code",
   "execution_count": null,
   "id": "ea7af25f",
   "metadata": {},
   "outputs": [],
   "source": [
    "print(checkKalman('corn'))"
   ]
  },
  {
   "cell_type": "code",
   "execution_count": null,
   "id": "9c39ae1c",
   "metadata": {},
   "outputs": [],
   "source": [
    "print(checkKalman_OUT('corn'))"
   ]
  },
  {
   "cell_type": "code",
   "execution_count": null,
   "id": "1cb21a4c",
   "metadata": {},
   "outputs": [],
   "source": [
    "data"
   ]
  },
  {
   "cell_type": "code",
   "execution_count": null,
   "id": "502d1c97",
   "metadata": {},
   "outputs": [],
   "source": []
  },
  {
   "cell_type": "code",
   "execution_count": null,
   "id": "58978207",
   "metadata": {},
   "outputs": [],
   "source": []
  },
  {
   "cell_type": "code",
   "execution_count": null,
   "id": "c607efd0",
   "metadata": {},
   "outputs": [],
   "source": [
    "miDelay =5\n",
    "\n",
    "#TICKERS\n",
    "tickers5 = ['AAPL', 'MSFT', '^GSPC', 'ELE.MC','SAN.MC', 'BBVA.MC']  #,'ANA.MC','MTS.MC','GRF.MC']  # apple,microsfoft,sp500, endesa\n",
    "tickers__ = ['MTS.MC'] \n",
    "tickers = ['FER.MC','COL.MC','IBE.MC','NTGY.MC','SAB.MC','ACX.MC','PHM.MC','SAN.MC','MRL.MC','TEF.MC','AMS.MC','VIS.MC','MTS.MC','MAP.MC','CLNX.MC','BBVA.MC','CABK.MC','MEL.MC','AENA.MC','BKT.MC','REE.MC','FDR.MC','ACS.MC','ITX.MC','ENG.MC','ANA.MC','ELE.MC','GRF.MC','IAG.MC','SGRE.MC']\n",
    "tickersCurrencies =['EURUSD=X', 'EURGBP=X' ,'EURCHF=X', 'EURJPY=X', 'EURNZD=X', 'EURCAD=X', 'EURAUD=X','USDCHF=X', \n",
    "         'USDJPY=X','GBPCAD=X', 'GBPUSD=X', 'GBPJPY=X', 'GBPCHF=X', 'GBPNZD=X', 'GBPAUD=X',\n",
    "         'NZDCAD=X', 'NZDUSD=X', 'NZDCHF=X', 'NZDJPY=X','JPY=X','EURSEK=X','USDCAD=X','AUDCAD=X',\n",
    "         'KC=F','HG=F', 'CORN', 'CL=F', 'ZS=F','ZW=F','GC=F','ZW=F',\n",
    "         'ETH-USD','PFE',\n",
    "        '^IXIC', '^GSPC', '^GDAXI'\n",
    "         ]\n",
    "try: \n",
    "    df1 = pd.read_csv('tickersIbex_estadoIN_OUT.csv')\n",
    "    # converting to dict\n",
    "    Ibex_dict = dict(df1.values)\n",
    "    \n",
    "    df2 = pd.read_csv('tickersCurrencies_estadoIN_OUT.csv')\n",
    "    # converting to dict\n",
    "    Currencies_dict = dict(df2.values)\n",
    "\n",
    "except:\n",
    "    Currencies_dict = dict.fromkeys(tickersCurrencies, fuera) #convertir el array en un diccionario\n",
    "    Ibex_dict = dict.fromkeys(tickers, fuera)\n",
    "\n",
    "\n",
    "\n",
    "\n",
    "while(True):\n",
    "    #VALORES DEL IBEX \n",
    "    for i in range(len(tickers)): \n",
    "                           \n",
    "        if (Ibex_dict[tickers[i]]==fuera):\n",
    "            señal= checkKalman(tickers[i])     \n",
    "            Ibex_dict[tickers[i]]=señal\n",
    "            sleep(miDelay)\n",
    "        else: \n",
    "            señal= checkKalman_OUT(tickers[i])     \n",
    "            Ibex_dict[tickers[i]]=señal\n",
    "            sleep(miDelay)            \n",
    "     \n",
    "    df=pd.DataFrame(list(Ibex_dict.items()),\n",
    "                   columns=['tickers', 'in_out'])\n",
    "    df.to_csv('tickersIbex_estadoIN_OUT.csv',index=False)\n",
    "    \n",
    "          \n",
    "\n",
    "\n",
    "    #CURRENCIES\n",
    "    for i in range(len(tickersCurrencies)): \n",
    "                \n",
    "        if (Currencies_dict[tickersCurrencies[i]]==fuera):\n",
    "            señal= checkKalman(tickersCurrencies[i])     \n",
    "            Currencies_dict[tickersCurrencies[i]]=señal\n",
    "            sleep(miDelay)\n",
    "        else: \n",
    "            señal= checkKalman_OUT(tickersCurrencies[i])     \n",
    "            Currencies_dict[tickersCurrencies[i]]=señal\n",
    "            sleep(miDelay)            \n",
    "\n",
    "            \n",
    "    df=pd.DataFrame(list(Currencies_dict.items()),\n",
    "                   columns=['tickersCurrencies', 'in_out'])\n",
    "    df.to_csv('tickersCurrencies_estadoIN_OUT.csv',index=False)\n",
    "    \n",
    "            \n",
    "\n",
    "    #VALORES DEL SP50\n",
    "    \"\"\"\n",
    "    sp_url= 'https://en.wikipedia.org/wiki/List_of_S%26P_500_companies'\n",
    "    sp=pd.read_html(sp_url,header=0)[0]\n",
    "    print (sp.info())\n",
    "\n",
    "    for i in range(len(sp)):\n",
    "         symbol=sp.iloc[i,0] \n",
    "         #df = yf.download(symbol, start, end)\n",
    "         print(symbol)\n",
    "         checkKalman(symbol)\n",
    "         sleep(8)\n",
    "    \"\"\"\n"
   ]
  },
  {
   "cell_type": "code",
   "execution_count": null,
   "id": "8eef7552",
   "metadata": {},
   "outputs": [],
   "source": [
    "tickersCurrencies =['EURUSD=X', 'EURGBP=X' ,'EURCHF=X', 'EURJPY=X', 'EURNZD=X', 'EURCAD=X', 'EURAUD=X','USDCHF=X', \n",
    "         'USDJPY=X','GBPCAD=X', 'GBPUSD=X', 'GBPJPY=X', 'GBPCHF=X', 'GBPNZD=X', 'GBPAUD=X',\n",
    "         'NZDCAD=X', 'NZDUSD=X', 'NZDCHF=X', 'NZDJPY=X','JPY=X','EURSEK=X','USDCAD=X','AUDCAD=X',\n",
    "         'KC=F','HG=F', 'CORN', 'CL=F', 'ZS=F','ZW=F','GC=F','X','ZW=F',\n",
    "         'ETH-USD','PFE',\n",
    "        '^IXIC', '^GSPC', '^GDAXI'\n",
    "         ]\n",
    "\n",
    "Currencies_dict = dict.fromkeys(tickersCurrencies, \"out\")\n"
   ]
  },
  {
   "cell_type": "code",
   "execution_count": null,
   "id": "b20f2e5b",
   "metadata": {},
   "outputs": [],
   "source": [
    "Currencies_dict[tickersCurrencies[2]]=2\n"
   ]
  },
  {
   "cell_type": "code",
   "execution_count": null,
   "id": "f94eab5e",
   "metadata": {},
   "outputs": [],
   "source": [
    "Currencies_dict"
   ]
  },
  {
   "cell_type": "code",
   "execution_count": null,
   "id": "34ca5036",
   "metadata": {},
   "outputs": [],
   "source": [
    "df=pd.DataFrame(list(Currencies_dict.items()),\n",
    "                   columns=['ticker', 'in_out'])"
   ]
  },
  {
   "cell_type": "code",
   "execution_count": null,
   "id": "0f130f87",
   "metadata": {},
   "outputs": [],
   "source": [
    "df"
   ]
  },
  {
   "cell_type": "code",
   "execution_count": null,
   "id": "7dd5052e",
   "metadata": {},
   "outputs": [],
   "source": [
    "df.to_csv('estadoIN_OUT.csv')  #df = pd.read_csv('estadoIN_OUT.csv')"
   ]
  },
  {
   "cell_type": "markdown",
   "id": "0e197abb",
   "metadata": {},
   "source": [
    "# GRAFICADOR"
   ]
  },
  {
   "cell_type": "code",
   "execution_count": null,
   "id": "3aea5d99",
   "metadata": {},
   "outputs": [],
   "source": [
    "\n",
    "\n",
    "#Interval required 1 minute\n",
    "data = yf.download(tickers='UBER', period='1d', interval='1m')\n",
    "\n",
    "#declare figure\n",
    "fig = go.Figure()\n",
    "\n",
    "#Candlestick\n",
    "fig.add_trace(go.Candlestick(x=data.index,\n",
    "                open=data['Open'],\n",
    "                high=data['High'],\n",
    "                low=data['Low'],\n",
    "                close=data['Close'], name = 'market data'))\n",
    "\n",
    "# Add titles\n",
    "\n",
    "fig.layout.update(\n",
    "    title='Uber live share price evolution',\n",
    "    yaxis_title='Stock Price (USD per Shares)')\n",
    "\n",
    "# X-Axes\n",
    "\n",
    "fig.update_xaxes(\n",
    "    rangeslider_visible=True,\n",
    "    rangeselector=dict(\n",
    "        buttons=list([\n",
    "            dict(count=15, label=\"15m\", step=\"minute\", stepmode=\"backward\"),\n",
    "            dict(count=45, label=\"45m\", step=\"minute\", stepmode=\"backward\"),\n",
    "            dict(count=1, label=\"HTD\", step=\"hour\", stepmode=\"todate\"),\n",
    "            dict(count=3, label=\"3h\", step=\"hour\", stepmode=\"backward\"),\n",
    "            dict(step=\"all\")\n",
    "        ])\n",
    "    )\n",
    ")\n",
    "\n",
    "#Show\n",
    "fig.show()"
   ]
  },
  {
   "cell_type": "code",
   "execution_count": null,
   "id": "ec669189",
   "metadata": {},
   "outputs": [],
   "source": []
  },
  {
   "cell_type": "code",
   "execution_count": null,
   "id": "27648038",
   "metadata": {},
   "outputs": [],
   "source": []
  }
 ],
 "metadata": {
  "kernelspec": {
   "display_name": "Python 3 (ipykernel)",
   "language": "python",
   "name": "python3"
  },
  "language_info": {
   "codemirror_mode": {
    "name": "ipython",
    "version": 3
   },
   "file_extension": ".py",
   "mimetype": "text/x-python",
   "name": "python",
   "nbconvert_exporter": "python",
   "pygments_lexer": "ipython3",
   "version": "3.7.11"
  }
 },
 "nbformat": 4,
 "nbformat_minor": 5
}
