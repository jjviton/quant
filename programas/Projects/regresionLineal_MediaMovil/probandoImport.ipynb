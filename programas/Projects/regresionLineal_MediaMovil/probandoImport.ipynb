{
 "cells": [
  {
   "cell_type": "code",
   "execution_count": 6,
   "id": "8865936a",
   "metadata": {},
   "outputs": [],
   "source": [
    "import matplotlib"
   ]
  },
  {
   "cell_type": "code",
   "execution_count": 5,
   "id": "a78a486a",
   "metadata": {},
   "outputs": [],
   "source": [
    "import analisis"
   ]
  },
  {
   "cell_type": "code",
   "execution_count": 1,
   "id": "7637763a",
   "metadata": {},
   "outputs": [
    {
     "name": "stdout",
     "output_type": "stream",
     "text": [
      "{'first_name': 'vital_bot', 'can_read_all_group_messages': False, 'can_join_groups': True, 'is_bot': True, 'username': 'vital_quant_bot', 'id': 1473252352, 'supports_inline_queries': False}\n"
     ]
    }
   ],
   "source": [
    "import regresionAMedia_v2"
   ]
  },
  {
   "cell_type": "code",
   "execution_count": null,
   "id": "c6c1ad52",
   "metadata": {},
   "outputs": [],
   "source": []
  },
  {
   "cell_type": "code",
   "execution_count": null,
   "id": "b2c7eabc",
   "metadata": {},
   "outputs": [],
   "source": []
  }
 ],
 "metadata": {
  "kernelspec": {
   "display_name": "Python 3 (ipykernel)",
   "language": "python",
   "name": "python3"
  },
  "language_info": {
   "codemirror_mode": {
    "name": "ipython",
    "version": 3
   },
   "file_extension": ".py",
   "mimetype": "text/x-python",
   "name": "python",
   "nbconvert_exporter": "python",
   "pygments_lexer": "ipython3",
   "version": "3.7.11"
  }
 },
 "nbformat": 4,
 "nbformat_minor": 5
}
