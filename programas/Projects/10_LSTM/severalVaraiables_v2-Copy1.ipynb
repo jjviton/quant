{
 "cells": [
  {
   "cell_type": "code",
   "execution_count": 1,
   "id": "0e5daf44",
   "metadata": {},
   "outputs": [
    {
     "data": {
      "text/plain": [
       "'\\n@author: J3viton\\nCode tested on Tensorflow: 2.2.0\\n    Keras: 2.4.3\\ndataset: https://finance.yahoo.com/quote/GE/history/\\nAlso try S&P: https://finance.yahoo.com/quote/%5EGSPC/history?p=%5EGSPC\\n'"
      ]
     },
     "execution_count": 1,
     "metadata": {},
     "output_type": "execute_result"
    }
   ],
   "source": [
    "# https://youtu.be/tepxdcepTbY\n",
    "\"\"\"\n",
    "@author: J3viton\n",
    "Code tested on Tensorflow: 2.2.0\n",
    "    Keras: 2.4.3\n",
    "dataset: https://finance.yahoo.com/quote/GE/history/\n",
    "Also try S&P: https://finance.yahoo.com/quote/%5EGSPC/history?p=%5EGSPC\n",
    "\"\"\"\n"
   ]
  },
  {
   "cell_type": "code",
   "execution_count": null,
   "id": "3a6f3aa7",
   "metadata": {},
   "outputs": [],
   "source": [
    "\n",
    "\n",
    "import numpy as np\n",
    "from tensorflow.keras.models import Sequential\n",
    "from tensorflow.keras.layers import LSTM\n",
    "from tensorflow.keras.layers import Dense, Dropout\n",
    "import pandas as pd\n",
    "from matplotlib import pyplot as plt\n",
    "from sklearn.preprocessing import StandardScaler\n",
    "from sklearn.model_selection import train_test_split \n",
    "import seaborn as sns"
   ]
  },
  {
   "cell_type": "code",
   "execution_count": null,
   "id": "8a0a2c9d",
   "metadata": {},
   "outputs": [],
   "source": [
    "#Read the csv file\n",
    "#df = pd.read_csv('GE.csv')\n",
    "df= pd.read_csv('rovi_05.csv')    ### 'rovi_05.csv''zara_02.csv'\n",
    "print(df.tail()) #7 columns, including the Date. \n"
   ]
  },
  {
   "cell_type": "code",
   "execution_count": null,
   "id": "d02b40b5",
   "metadata": {},
   "outputs": [],
   "source": [
    "#Separate dates for future plotting\n",
    "train_dates = pd.to_datetime(df['Date'])\n",
    "print(train_dates.tail(5)) #Check last few dates. "
   ]
  },
  {
   "cell_type": "code",
   "execution_count": null,
   "id": "ae16e892",
   "metadata": {},
   "outputs": [],
   "source": [
    "df.shape"
   ]
  },
  {
   "cell_type": "code",
   "execution_count": null,
   "id": "c6dfa849",
   "metadata": {},
   "outputs": [],
   "source": [
    "#Variables for training\n",
    "cols = list(df)[2:7]  #df.columns.tolist()\n",
    "#Date and volume columns are not used in training. \n",
    "print(cols) #['Open', 'High', 'Low', 'Close', 'Adj Close']"
   ]
  },
  {
   "cell_type": "code",
   "execution_count": null,
   "id": "39268708",
   "metadata": {},
   "outputs": [],
   "source": [
    "cols[0]"
   ]
  },
  {
   "cell_type": "code",
   "execution_count": null,
   "id": "32c27c24",
   "metadata": {},
   "outputs": [],
   "source": [
    "#New dataframe with only training data - 5 columns\n",
    "df_for_training = df[cols].astype(float)\n",
    "\n",
    "df_for_plot=df_for_training.tail(500)\n",
    "df_for_plot.plot.line()"
   ]
  },
  {
   "cell_type": "code",
   "execution_count": null,
   "id": "41865ced",
   "metadata": {},
   "outputs": [],
   "source": [
    "### ESTUDIA como funciona este tema del scaler... deberia ser entre 0 y 1, no?\n",
    "\n",
    "#LSTM uses sigmoid and tanh that are sensitive to magnitude so values need to be normalized\n",
    "# normalize the dataset\n",
    "#Estándariza los datos eliminando la media y escalando los datos de forma que su varianza sea igual a 1.\n",
    "\n",
    "scaler = StandardScaler()\n",
    "scaler = scaler.fit(df_for_training)\n",
    "df_for_training_scaled = scaler.transform(df_for_training)\n",
    "df_for_training_scaled\n"
   ]
  },
  {
   "cell_type": "code",
   "execution_count": null,
   "id": "6cb1748a",
   "metadata": {},
   "outputs": [],
   "source": [
    "df_for_training_scaled.shape\n"
   ]
  },
  {
   "cell_type": "code",
   "execution_count": null,
   "id": "bb55ff1f",
   "metadata": {},
   "outputs": [],
   "source": []
  },
  {
   "cell_type": "code",
   "execution_count": null,
   "id": "7581f655",
   "metadata": {},
   "outputs": [],
   "source": []
  },
  {
   "cell_type": "code",
   "execution_count": null,
   "id": "98db2f4e",
   "metadata": {},
   "outputs": [],
   "source": [
    "#As required for LSTM networks, we require to reshape an input data into n_samples x timesteps x n_features. \n",
    "#In this example, the n_features is 5. We will make timesteps = 14 (past days data used for training). \n",
    "\n",
    "#Empty lists to be populated using formatted training data\n",
    "trainXX = []\n",
    "trainYY = []\n",
    "trainX_test=[]\n",
    "\n",
    "n_future = 6   # origina=1,   Number of days we want to look into the future based on the past days.\n",
    "n_past = 14  # Number of past days we want to use to predict the future.  FILAS"
   ]
  },
  {
   "cell_type": "code",
   "execution_count": null,
   "id": "f6c51bcb",
   "metadata": {},
   "outputs": [],
   "source": [
    "\n",
    "#Reformat input data into a shape: (n_samples x timesteps x n_features)\n",
    "#In my example, my df_for_training_scaled has a shape (12823, 5)\n",
    "#12823 refers to the number of data points and 5 refers to the columns (multi-variables).\n",
    "for i in range(n_past, len(df_for_training_scaled) - n_future +1):\n",
    "    ## en este caso Append añade un elemento que es un array de dos dimensiones.\n",
    "    trainXX.append( df_for_training_scaled[ i - n_past : i ,  0:df_for_training.shape[1]])  #n_past filas X 5 columnas (feautures)\n",
    "    #slicing: fila desde (i-n_past) hasta i///// Columna desde 0: 5 =>(df_for_training.shape[1])\n",
    "    \n",
    "    trainYY.append(df_for_training_scaled[i + n_future - 1:i + n_future, 4])  ##[17:18,0] un posicoin de la fila para la columna 0\n",
    "    ### el 4 es la caracteritica elegida Close//EMA//EMA100//\n"
   ]
  },
  {
   "cell_type": "markdown",
   "id": "2105fdeb",
   "metadata": {},
   "source": [
    "## separar Training y TEST"
   ]
  },
  {
   "cell_type": "code",
   "execution_count": null,
   "id": "6732a1c8",
   "metadata": {},
   "outputs": [],
   "source": [
    "trainX, trainX_test, trainY, trainY_test  = train_test_split(trainXX, trainYY, test_size = 0.30,shuffle = False)\n"
   ]
  },
  {
   "cell_type": "code",
   "execution_count": null,
   "id": "2a0ae332",
   "metadata": {},
   "outputs": [],
   "source": [
    "trainX_test[0:5]"
   ]
  },
  {
   "cell_type": "code",
   "execution_count": null,
   "id": "118bcbf8",
   "metadata": {},
   "outputs": [],
   "source": [
    "\n",
    "trainX, trainY = np.array(trainX), np.array(trainY)\n",
    "trainX_test, trainY_test = np.array(trainX_test), np.array(trainY_test)\n",
    "\n",
    "print('trainX shape == {}.'.format(trainX.shape))\n",
    "print('trainY shape == {}.'.format(trainY.shape))\n",
    "print('trainX_test shape == {}.'.format(trainX_test.shape))\n",
    "\n",
    "\"\"\"\n",
    "tenemos un array de 238 elementos en el que cada elemento es un array de 14x5\n",
    "\"\"\""
   ]
  },
  {
   "cell_type": "markdown",
   "id": "ccbc1bbd",
   "metadata": {},
   "source": [
    "trainX_test"
   ]
  },
  {
   "cell_type": "markdown",
   "id": "db3196e6",
   "metadata": {},
   "source": [
    "trainX[0][13][4]"
   ]
  },
  {
   "cell_type": "markdown",
   "id": "b5a80c5a",
   "metadata": {},
   "source": [
    "trainY[0][0]"
   ]
  },
  {
   "cell_type": "code",
   "execution_count": null,
   "id": "24963394",
   "metadata": {},
   "outputs": [],
   "source": [
    "\n",
    "#In my case, trainX has a shape (12809, 14, 5). \n",
    "#12809 because we are looking back 14 days (12823 - 14 = 12809). \n",
    "#Remember that we cannot look back 14 days until we get to the 15th day. \n",
    "#Also, trainY has a shape (12809, 1). Our model only predicts a single value, but \n",
    "#it needs multiple variables (5 in my example) to make this prediction. \n",
    "#This is why we can only predict a single day after our training, the day after where our data ends.\n",
    "#To predict more days in future, we need all the 5 variables which we do not have. \n",
    "#We need to predict all variables if we want to do that. "
   ]
  },
  {
   "cell_type": "code",
   "execution_count": null,
   "id": "d15ea222",
   "metadata": {},
   "outputs": [],
   "source": [
    "# define the Autoencoder model\n",
    "\n",
    "model = Sequential()\n",
    "model.add(LSTM(64, activation='relu', input_shape=(trainX.shape[1], trainX.shape[2]), return_sequences=True))\n",
    "model.add(LSTM(32, activation='relu', return_sequences=False))\n",
    "model.add(Dropout(0.2))\n",
    "model.add(Dense(trainY.shape[1]))\n",
    "\n",
    "model.compile(optimizer='adam', loss='mse')\n",
    "model.summary()\n",
    "\n",
    "\n",
    "# fit the model\n",
    "history = model.fit(trainX, trainY, epochs=20, batch_size=30, validation_split=0.15, verbose=1)\n",
    "\n",
    "plt.plot(history.history['loss'], label='Training loss')\n",
    "plt.plot(history.history['val_loss'], label='Validation loss')\n",
    "plt.legend()"
   ]
  },
  {
   "cell_type": "code",
   "execution_count": null,
   "id": "2c55090e",
   "metadata": {},
   "outputs": [],
   "source": [
    "\n",
    "#Predicting...\n",
    "#Libraries that will help us extract only business days in the US.\n",
    "#Otherwise our dates would be wrong when we look back (or forward).  \n",
    "#from pandas.tseries.holiday import USFederalHolidayCalendar\n",
    "#from pandas.tseries.offsets import CustomBusinessDay\n",
    "\n",
    "#us_bd = CustomBusinessDay(calendar=USFederalHolidayCalendar())\n",
    "#Remember that we can only predict one day in future as our model needs 5 variables\n",
    "#as inputs for prediction. We only have all 5 variables until the last day in our dataset.\n",
    "\n",
    "\n",
    "##n_days_for_prediction=10  #let us predict past 15 days\n",
    "\n",
    "predict_period_dates = pd.date_range(list(train_dates)[-n_past], periods=n_past, freq='D').tolist()\n",
    "print(predict_period_dates)\n",
    "\n",
    "#Make prediction\n",
    "prediction = model.predict(trainX[0:n_past])\n",
    "#prediction = model.predict(trainX[-n_days_for_prediction:]) #shape = (n, 1) where n is the n_days_for_prediction\n",
    "                                                            # desde -n hasta el final. Cada elemento es un array bidimensional\n",
    "#Pido una predcicion para un array de fechas, me devuelve la predicion para cada una\n",
    "\n",
    "#Nos vamos n_daysforPredcition atras y calculamos la precidion a n_future (6) days despues."
   ]
  },
  {
   "cell_type": "code",
   "execution_count": null,
   "id": "7375654d",
   "metadata": {},
   "outputs": [],
   "source": [
    "#print (trainX[-2:])  # dos ultimos elementos. Cada elemento es un array de 15x5\n",
    "print (prediction)"
   ]
  },
  {
   "cell_type": "code",
   "execution_count": null,
   "id": "8fed20fc",
   "metadata": {},
   "outputs": [],
   "source": [
    "trainY[-n_past+n_future:]"
   ]
  },
  {
   "cell_type": "code",
   "execution_count": null,
   "id": "754174d8",
   "metadata": {},
   "outputs": [],
   "source": [
    "xx=(range(n_past))\n",
    "\n",
    "pred= prediction\n",
    "pred.shape = (n_past)\n",
    "real=trainY[-n_past:]\n",
    "real.shape = (n_past)\n",
    "\n",
    "#sns.lineplot(x=xx, y=pred, color='lightgreen')\n",
    "#sns.lineplot(x=xx, y=real)"
   ]
  },
  {
   "cell_type": "markdown",
   "id": "6cc68db7",
   "metadata": {},
   "source": [
    "real"
   ]
  },
  {
   "cell_type": "code",
   "execution_count": null,
   "id": "079811d7",
   "metadata": {},
   "outputs": [],
   "source": [
    "pred"
   ]
  },
  {
   "cell_type": "markdown",
   "id": "86866a0a",
   "metadata": {},
   "source": [
    "trainX.shape"
   ]
  },
  {
   "cell_type": "markdown",
   "id": "7a201771",
   "metadata": {},
   "source": [
    "VISUALIZAION"
   ]
  },
  {
   "cell_type": "code",
   "execution_count": null,
   "id": "b01ce1c5",
   "metadata": {},
   "outputs": [],
   "source": [
    "pred_gap = np.zeros(n_past+n_future)\n",
    "muestra_gap =[]\n",
    "xx=[]\n",
    "\n",
    "muestreo=15\n",
    "gapmuestras=np.zeros(muestreo-n_past)\n",
    "gapprevion=np.zeros(n_future)\n",
    "gappostprevison= np.zeros(muestreo-n_future-n_past)\n",
    "\n",
    "for ii in range (len(gapmuestras)):\n",
    "    gapmuestras[ii] = np.nan\n",
    "for ii in range (len(gapprevion)):\n",
    "    gapprevion[ii] = np.nan\n",
    "for ii in range (len(gappostprevison)):\n",
    "    gappostprevison[ii] = np.nan    \n",
    "\n",
    "\n",
    "inicio= np.zeros(n_future+n_past)    \n",
    "\n",
    "origen=n_past+n_future\n",
    "\n",
    "\n",
    "for i in range(n_past, len(trainX)-100, muestreo):\n",
    "    \n",
    "    prediction = model.predict(trainX[i-n_past:i])\n",
    "    prediction.shape = (n_past)   #me devuleve 15//n_past previsiones a 6//n_future dias vista\n",
    "    pred_gap=np.concatenate((pred_gap, prediction), axis=0)  #predcicion son n_past... en un futuro de n_futre muestras\n",
    "    pred_gap=np.concatenate((pred_gap, gapmuestras), axis=0)\n",
    "\n",
    "    xx=(trainX[i-n_past:i,0,4])\n",
    "    muestra_gap=np.concatenate((muestra_gap, xx  ), axis=0)\n",
    "    muestra_gap=np.concatenate((muestra_gap, gapmuestras), axis=0)\n",
    "\n",
    "    #print(trainX[i:i+n_days_for_prediction])\n",
    "    ##print(xx)\n",
    "    #fake =input()\n"
   ]
  },
  {
   "cell_type": "code",
   "execution_count": null,
   "id": "d5f37bb7",
   "metadata": {},
   "outputs": [],
   "source": [
    "%matplotlib notebook"
   ]
  },
  {
   "cell_type": "markdown",
   "id": "568b70fe",
   "metadata": {},
   "source": [
    "trainX_test.shape\n"
   ]
  },
  {
   "cell_type": "code",
   "execution_count": null,
   "id": "74bdd98d",
   "metadata": {},
   "outputs": [],
   "source": [
    "#sns.lineplot(y=pred_gap, color='lightgreen')\n",
    "\n",
    "yy2y=trainX[0:(len(trainX)),0,0]\n",
    "#yy2y.shape = (len(df_for_training_scaled[0]) )\n",
    "plt.plot(yy2y, label='curva Close',color='lightblue')\n",
    "\n",
    "yyy=trainX[0:(len(trainX)),0,4]\n",
    "#yyy.shape = (df_for_training_scaled.shape[0] )\n",
    "plt.plot(yyy, label='curva REAL',color='pink')\n",
    "\n",
    "plt.plot(muestra_gap, color='red',label='datos origen Prediccion')\n",
    "plt.plot(pred_gap, color='lightgreen', label='Predicción')\n",
    "\n",
    "\n",
    "\n",
    "plt.legend()\n",
    "plt.show()"
   ]
  },
  {
   "cell_type": "code",
   "execution_count": null,
   "id": "5cd328d7",
   "metadata": {},
   "outputs": [],
   "source": []
  },
  {
   "cell_type": "code",
   "execution_count": null,
   "id": "9e7be77b",
   "metadata": {},
   "outputs": [],
   "source": [
    "#sns.lineplot(x=range(pred_gap.size), y=pred_gap, color='lightgreen')\n",
    "#sns.lineplot(x=range(yy.size), y=yy, color='r')"
   ]
  },
  {
   "cell_type": "code",
   "execution_count": null,
   "id": "c922dca9",
   "metadata": {},
   "outputs": [],
   "source": [
    "#plt.savefig('lstm3.jpg',dpi=600)"
   ]
  },
  {
   "cell_type": "code",
   "execution_count": null,
   "id": "16ca0013",
   "metadata": {},
   "outputs": [],
   "source": [
    "yy2y.shape\n"
   ]
  },
  {
   "cell_type": "code",
   "execution_count": null,
   "id": "2449d988",
   "metadata": {},
   "outputs": [],
   "source": []
  }
 ],
 "metadata": {
  "hide_input": false,
  "kernelspec": {
   "display_name": "Python 3 (ipykernel)",
   "language": "python",
   "name": "python3"
  },
  "language_info": {
   "codemirror_mode": {
    "name": "ipython",
    "version": 3
   },
   "file_extension": ".py",
   "mimetype": "text/x-python",
   "name": "python",
   "nbconvert_exporter": "python",
   "pygments_lexer": "ipython3",
   "version": "3.9.13"
  },
  "varInspector": {
   "cols": {
    "lenName": 16,
    "lenType": 16,
    "lenVar": 40
   },
   "kernels_config": {
    "python": {
     "delete_cmd_postfix": "",
     "delete_cmd_prefix": "del ",
     "library": "var_list.py",
     "varRefreshCmd": "print(var_dic_list())"
    },
    "r": {
     "delete_cmd_postfix": ") ",
     "delete_cmd_prefix": "rm(",
     "library": "var_list.r",
     "varRefreshCmd": "cat(var_dic_list()) "
    }
   },
   "position": {
    "height": "693.844px",
    "left": "835px",
    "right": "20px",
    "top": "318px",
    "width": "800px"
   },
   "types_to_exclude": [
    "module",
    "function",
    "builtin_function_or_method",
    "instance",
    "_Feature"
   ],
   "window_display": false
  }
 },
 "nbformat": 4,
 "nbformat_minor": 5
}
