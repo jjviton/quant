{
 "cells": [
  {
   "cell_type": "markdown",
   "metadata": {},
   "source": [
    "https://www.kaggle.com/code/charel/learn-by-example-rnn-lstm-gru-time-series\n",
    "https://www.jakob-aungiers.com/articles/a/LSTM-Neural-Network-for-Time-Series-Prediction  buena\n",
    "https://www.youtube.com/watch?v=2np77NOdnwk&ab_channel=JakobAungiers\n"
   ]
  },
  {
   "cell_type": "markdown",
   "metadata": {
    "_uuid": "79ac683d1b85322f6ed4a564637914a8d803221b"
   },
   "source": [
    "\n",
    "## Long Short Term Memory(LSTM)\n",
    "Long short-term memory (LSTM) units (or blocks) are a building unit for layers of a recurrent neural network (RNN). A RNN composed of LSTM units is often called an LSTM network. A common LSTM unit is composed of a cell, an input gate, an output gate and a forget gate. The cell is responsible for \"remembering\" values over arbitrary time intervals; hence the word \"memory\" in LSTM. Each of the three gates can be thought of as a \"conventional\" artificial neuron, as in a multi-layer (or feedforward) neural network: that is, they compute an activation (using an activation function) of a weighted sum. Intuitively, they can be thought as regulators of the flow of values that goes through the connections of the LSTM; hence the denotation \"gate\". There are connections between these gates and the cell.\n",
    "\n",
    "The expression long short-term refers to the fact that LSTM is a model for the short-term memory which can last for a long period of time. An LSTM is well-suited to classify, process and predict time series given time lags of unknown size and duration between important events. LSTMs were developed to deal with the exploding and vanishing gradient problem when training traditional RNNs.\n",
    "\n",
    "Source: [Wikipedia](https://en.wikipedia.org/wiki/Long_short-term_memory)\n",
    "\n",
    "<img src=\"https://cdn-images-1.medium.com/max/1600/0*LyfY3Mow9eCYlj7o.\">\n",
    "\n",
    "Source: [Medium](https://codeburst.io/generating-text-using-an-lstm-network-no-libraries-2dff88a3968)\n",
    "\n",
    "The best LSTM explanation on internet: https://medium.com/deep-math-machine-learning-ai/chapter-10-1-deepnlp-lstm-long-short-term-memory-networks-with-math-21477f8e4235\n",
    "\n",
    "Refer above link for deeper insights."
   ]
  },
  {
   "cell_type": "markdown",
   "metadata": {
    "_uuid": "42c24cc294d93504880c5c76d383b491d89b29f1"
   },
   "source": [
    "## Components of LSTMs\n",
    "So the LSTM cell contains the following components\n",
    "* Forget Gate “f” ( a neural network with sigmoid)\n",
    "* Candidate layer “C\"(a NN with Tanh)\n",
    "* Input Gate “I” ( a NN with sigmoid )\n",
    "* Output Gate “O”( a NN with sigmoid)\n",
    "* Hidden state “H” ( a vector )\n",
    "* Memory state “C” ( a vector)\n",
    "\n",
    "* Inputs to the LSTM cell at any step are X<sub>t</sub> (current input) , H<sub>t-1</sub> (previous hidden state ) and C<sub>t-1</sub> (previous memory state).  \n",
    "* Outputs from the LSTM cell are H<sub>t</sub> (current hidden state ) and C<sub>t</sub> (current memory state)"
   ]
  },
  {
   "cell_type": "markdown",
   "metadata": {
    "_uuid": "e7f3771ce38c69191eb23681561744863ee30ea8"
   },
   "source": [
    "## Working of gates in LSTMs\n",
    "First, LSTM cell takes the previous memory state C<sub>t-1</sub> and does element wise multiplication with forget gate (f) to decide if  present memory state C<sub>t</sub>. If forget gate value is 0 then previous memory state is completely forgotten else f forget gate value is 1 then previous memory state is completely passed to the cell ( Remember f gate gives values between 0 and 1 ).\n",
    "\n",
    "**C<sub>t</sub> = C<sub>t-1</sub> * f<sub>t</sub>**\n",
    "\n",
    "Calculating the new memory state: \n",
    "\n",
    "**C<sub>t</sub> = C<sub>t</sub> + (I<sub>t</sub> * C\\`<sub>t</sub>)**\n",
    "\n",
    "Now, we calculate the output:\n",
    "\n",
    "**H<sub>t</sub> = tanh(C<sub>t</sub>)**"
   ]
  },
  {
   "cell_type": "markdown",
   "metadata": {
    "_uuid": "2f82cc24efc6283e5a98cadb78fc1a465e44c143"
   },
   "source": [
    "### And now we get to the code...\n",
    "I will use LSTMs for predicting the price of stocks of IBM for the year 2017"
   ]
  },
  {
   "cell_type": "code",
   "execution_count": 1,
   "metadata": {
    "_uuid": "da0236e4b36ce514c1fec3fd72f236d1fa259131",
    "execution": {
     "iopub.execute_input": "2022-11-28T18:15:46.792652Z",
     "iopub.status.busy": "2022-11-28T18:15:46.792305Z",
     "iopub.status.idle": "2022-11-28T18:15:47.824484Z",
     "shell.execute_reply": "2022-11-28T18:15:47.823390Z",
     "shell.execute_reply.started": "2022-11-28T18:15:46.792591Z"
    }
   },
   "outputs": [],
   "source": [
    "# Importing the libraries\n",
    "import numpy as np\n",
    "import matplotlib.pyplot as plt\n",
    "plt.style.use('fivethirtyeight')\n",
    "import pandas as pd\n",
    "from sklearn.preprocessing import MinMaxScaler\n",
    "from keras.models import Sequential\n",
    "from keras.layers import Dense, LSTM, Dropout, GRU, Bidirectional\n",
    "from keras.optimizers import SGD\n",
    "import math\n",
    "from sklearn.metrics import mean_squared_error"
   ]
  },
  {
   "cell_type": "code",
   "execution_count": 2,
   "metadata": {
    "_uuid": "b288a8e2caf6196daec9cd2bc4ca78fe50345845",
    "execution": {
     "iopub.execute_input": "2022-11-28T18:15:47.826949Z",
     "iopub.status.busy": "2022-11-28T18:15:47.826558Z",
     "iopub.status.idle": "2022-11-28T18:15:47.835188Z",
     "shell.execute_reply": "2022-11-28T18:15:47.833789Z",
     "shell.execute_reply.started": "2022-11-28T18:15:47.826875Z"
    }
   },
   "outputs": [],
   "source": [
    "# Some functions to help out with\n",
    "def plot_predictions(test,predicted):\n",
    "    plt.plot(test, color='red',label='Real IBM Stock Price')\n",
    "    plt.plot(predicted, color='blue',label='Predicted IBM Stock Price')\n",
    "    plt.title('IBM Stock Price Prediction')\n",
    "    plt.xlabel('Time')\n",
    "    plt.ylabel('IBM Stock Price')\n",
    "    plt.legend()\n",
    "    plt.show()\n",
    "\n",
    "def return_rmse(test,predicted):\n",
    "    rmse = math.sqrt(mean_squared_error(test, predicted))\n",
    "    print(\"The root mean squared error is {}.\".format(rmse))"
   ]
  },
  {
   "cell_type": "code",
   "execution_count": 3,
   "metadata": {
    "_uuid": "4cf10cf27420eb383b93b15c0895139ea96c0ed3",
    "execution": {
     "iopub.execute_input": "2022-11-28T18:15:47.837881Z",
     "iopub.status.busy": "2022-11-28T18:15:47.837466Z",
     "iopub.status.idle": "2022-11-28T18:15:47.932653Z",
     "shell.execute_reply": "2022-11-28T18:15:47.931447Z",
     "shell.execute_reply.started": "2022-11-28T18:15:47.837815Z"
    }
   },
   "outputs": [
    {
     "data": {
      "text/html": [
       "<div>\n",
       "<style scoped>\n",
       "    .dataframe tbody tr th:only-of-type {\n",
       "        vertical-align: middle;\n",
       "    }\n",
       "\n",
       "    .dataframe tbody tr th {\n",
       "        vertical-align: top;\n",
       "    }\n",
       "\n",
       "    .dataframe thead th {\n",
       "        text-align: right;\n",
       "    }\n",
       "</style>\n",
       "<table border=\"1\" class=\"dataframe\">\n",
       "  <thead>\n",
       "    <tr style=\"text-align: right;\">\n",
       "      <th></th>\n",
       "      <th>position</th>\n",
       "      <th>Close</th>\n",
       "      <th>EMA_200</th>\n",
       "      <th>EMA_50</th>\n",
       "      <th>EMA_100</th>\n",
       "      <th>EMA_30</th>\n",
       "      <th>position.1</th>\n",
       "      <th>Name</th>\n",
       "    </tr>\n",
       "    <tr>\n",
       "      <th>Date</th>\n",
       "      <th></th>\n",
       "      <th></th>\n",
       "      <th></th>\n",
       "      <th></th>\n",
       "      <th></th>\n",
       "      <th></th>\n",
       "      <th></th>\n",
       "      <th></th>\n",
       "    </tr>\n",
       "  </thead>\n",
       "  <tbody>\n",
       "    <tr>\n",
       "      <th>2008-09-17</th>\n",
       "      <td>0</td>\n",
       "      <td>8.22</td>\n",
       "      <td>9.506528</td>\n",
       "      <td>9.145542</td>\n",
       "      <td>9.306545</td>\n",
       "      <td>9.124452</td>\n",
       "      <td>0</td>\n",
       "      <td>IBM</td>\n",
       "    </tr>\n",
       "    <tr>\n",
       "      <th>2008-09-18</th>\n",
       "      <td>1</td>\n",
       "      <td>8.11</td>\n",
       "      <td>9.492632</td>\n",
       "      <td>9.104933</td>\n",
       "      <td>9.282851</td>\n",
       "      <td>9.059004</td>\n",
       "      <td>1</td>\n",
       "      <td>IBM</td>\n",
       "    </tr>\n",
       "    <tr>\n",
       "      <th>2008-09-19</th>\n",
       "      <td>2</td>\n",
       "      <td>8.44</td>\n",
       "      <td>9.482158</td>\n",
       "      <td>9.078857</td>\n",
       "      <td>9.266161</td>\n",
       "      <td>9.019068</td>\n",
       "      <td>2</td>\n",
       "      <td>IBM</td>\n",
       "    </tr>\n",
       "    <tr>\n",
       "      <th>2008-09-22</th>\n",
       "      <td>3</td>\n",
       "      <td>8.10</td>\n",
       "      <td>9.468405</td>\n",
       "      <td>9.040470</td>\n",
       "      <td>9.243069</td>\n",
       "      <td>8.959773</td>\n",
       "      <td>3</td>\n",
       "      <td>IBM</td>\n",
       "    </tr>\n",
       "    <tr>\n",
       "      <th>2008-09-23</th>\n",
       "      <td>4</td>\n",
       "      <td>8.10</td>\n",
       "      <td>9.454789</td>\n",
       "      <td>9.003589</td>\n",
       "      <td>9.220434</td>\n",
       "      <td>8.904304</td>\n",
       "      <td>4</td>\n",
       "      <td>IBM</td>\n",
       "    </tr>\n",
       "  </tbody>\n",
       "</table>\n",
       "</div>"
      ],
      "text/plain": [
       "            position  Close   EMA_200    EMA_50   EMA_100    EMA_30  \\\n",
       "Date                                                                  \n",
       "2008-09-17         0   8.22  9.506528  9.145542  9.306545  9.124452   \n",
       "2008-09-18         1   8.11  9.492632  9.104933  9.282851  9.059004   \n",
       "2008-09-19         2   8.44  9.482158  9.078857  9.266161  9.019068   \n",
       "2008-09-22         3   8.10  9.468405  9.040470  9.243069  8.959773   \n",
       "2008-09-23         4   8.10  9.454789  9.003589  9.220434  8.904304   \n",
       "\n",
       "            position.1 Name  \n",
       "Date                         \n",
       "2008-09-17           0  IBM  \n",
       "2008-09-18           1  IBM  \n",
       "2008-09-19           2  IBM  \n",
       "2008-09-22           3  IBM  \n",
       "2008-09-23           4  IBM  "
      ]
     },
     "execution_count": 3,
     "metadata": {},
     "output_type": "execute_result"
    }
   ],
   "source": [
    "# First, we get the data\n",
    "#dataset = pd.read_csv('IBM_2006-01-01_to_2018-01-01.csv', index_col='Date', parse_dates=['Date'])\n",
    "dataset = pd.read_csv('rovi_05.csv', index_col='Date', parse_dates=['Date'])\n",
    "dataset.head()"
   ]
  },
  {
   "cell_type": "code",
   "execution_count": 4,
   "metadata": {
    "_uuid": "fb4c9db6d8a5bcf20ffad41747cfa5b6215ba220",
    "execution": {
     "iopub.execute_input": "2022-11-28T18:15:47.935471Z",
     "iopub.status.busy": "2022-11-28T18:15:47.935141Z",
     "iopub.status.idle": "2022-11-28T18:15:47.950699Z",
     "shell.execute_reply": "2022-11-28T18:15:47.949735Z",
     "shell.execute_reply.started": "2022-11-28T18:15:47.935416Z"
    }
   },
   "outputs": [],
   "source": [
    "# Checking for missing values\n",
    "training_set = dataset[:'2016'].iloc[:,1:2].values\n",
    "test_set = dataset['2017':].iloc[:,1:2].values"
   ]
  },
  {
   "cell_type": "code",
   "execution_count": 5,
   "metadata": {},
   "outputs": [
    {
     "data": {
      "text/plain": [
       "array([[ 8.22000027],\n",
       "       [ 8.10999966],\n",
       "       [ 8.43999958],\n",
       "       ...,\n",
       "       [12.31999969],\n",
       "       [12.22999954],\n",
       "       [12.32999992]])"
      ]
     },
     "execution_count": 5,
     "metadata": {},
     "output_type": "execute_result"
    }
   ],
   "source": [
    "training_set\n"
   ]
  },
  {
   "cell_type": "code",
   "execution_count": 6,
   "metadata": {
    "_uuid": "bf5a9463d58e73852d2b70be9611e8cf1f4166fd",
    "execution": {
     "iopub.execute_input": "2022-11-28T18:15:47.952372Z",
     "iopub.status.busy": "2022-11-28T18:15:47.952028Z",
     "iopub.status.idle": "2022-11-28T18:15:48.471467Z",
     "shell.execute_reply": "2022-11-28T18:15:48.470268Z",
     "shell.execute_reply.started": "2022-11-28T18:15:47.952311Z"
    }
   },
   "outputs": [
    {
     "data": {
      "image/png": "[encoded data removed]",
      "text/plain": [
       "<Figure size 1600x400 with 1 Axes>"
      ]
     },
     "metadata": {},
     "output_type": "display_data"
    }
   ],
   "source": [
    "# We have chosen 'High' attribute for prices. Let's see what it looks like\n",
    "dataset[\"EMA_200\"][:'2016'].plot(figsize=(16,4),legend=True,color='green')\n",
    "dataset[\"EMA_200\"]['2017':].plot(figsize=(16,4),legend=True)\n",
    "plt.legend(['Training set (Before 2017)','Test set (2017 and beyond)'])\n",
    "plt.title('IBM stock price')\n",
    "plt.show()"
   ]
  },
  {
   "cell_type": "code",
   "execution_count": 7,
   "metadata": {
    "_uuid": "bcc9c36165fc07d258bd5ea87874d2da17fa4a4d",
    "execution": {
     "iopub.execute_input": "2022-11-28T18:15:48.472837Z",
     "iopub.status.busy": "2022-11-28T18:15:48.472557Z",
     "iopub.status.idle": "2022-11-28T18:15:48.478250Z",
     "shell.execute_reply": "2022-11-28T18:15:48.476936Z",
     "shell.execute_reply.started": "2022-11-28T18:15:48.472792Z"
    }
   },
   "outputs": [],
   "source": [
    "# Scaling the training set\n",
    "sc = MinMaxScaler(feature_range=(0,1))\n",
    "training_set_scaled = sc.fit_transform(training_set)"
   ]
  },
  {
   "cell_type": "code",
   "execution_count": 8,
   "metadata": {
    "execution": {
     "iopub.execute_input": "2022-11-28T18:15:48.479697Z",
     "iopub.status.busy": "2022-11-28T18:15:48.479307Z",
     "iopub.status.idle": "2022-11-28T18:15:48.494710Z",
     "shell.execute_reply": "2022-11-28T18:15:48.493600Z",
     "shell.execute_reply.started": "2022-11-28T18:15:48.479585Z"
    }
   },
   "outputs": [
    {
     "data": {
      "text/plain": [
       "array([[ 8.22000027],\n",
       "       [ 8.10999966],\n",
       "       [ 8.43999958],\n",
       "       ...,\n",
       "       [12.31999969],\n",
       "       [12.22999954],\n",
       "       [12.32999992]])"
      ]
     },
     "execution_count": 8,
     "metadata": {},
     "output_type": "execute_result"
    }
   ],
   "source": [
    "training_set"
   ]
  },
  {
   "cell_type": "code",
   "execution_count": 9,
   "metadata": {
    "execution": {
     "iopub.execute_input": "2022-11-28T18:15:48.496584Z",
     "iopub.status.busy": "2022-11-28T18:15:48.496242Z",
     "iopub.status.idle": "2022-11-28T18:15:48.508842Z",
     "shell.execute_reply": "2022-11-28T18:15:48.507497Z",
     "shell.execute_reply.started": "2022-11-28T18:15:48.496522Z"
    }
   },
   "outputs": [
    {
     "data": {
      "text/plain": [
       "array([[0.34830578],\n",
       "       [0.33963749],\n",
       "       [0.36564221],\n",
       "       ...,\n",
       "       [0.67139479],\n",
       "       [0.66430258],\n",
       "       [0.67218283]])"
      ]
     },
     "execution_count": 9,
     "metadata": {},
     "output_type": "execute_result"
    }
   ],
   "source": [
    "training_set_scaled"
   ]
  },
  {
   "cell_type": "code",
   "execution_count": 10,
   "metadata": {
    "_uuid": "fccfb866a2b4c702e0b2742f7c0289512d713d1b",
    "execution": {
     "iopub.execute_input": "2022-11-28T18:15:48.511018Z",
     "iopub.status.busy": "2022-11-28T18:15:48.510570Z",
     "iopub.status.idle": "2022-11-28T18:15:48.529822Z",
     "shell.execute_reply": "2022-11-28T18:15:48.528254Z",
     "shell.execute_reply.started": "2022-11-28T18:15:48.510950Z"
    }
   },
   "outputs": [],
   "source": [
    "# Since LSTMs store long term memory state, we create a data structure with 60 timesteps and 1 output\n",
    "# So for each element of training set, we have 60 previous training set elements \n",
    "X_train = []\n",
    "y_train = []\n",
    "for i in range(60,1352):\n",
    "    X_train.append(training_set_scaled[i-60:i,0])\n",
    "    y_train.append(training_set_scaled[i,0])\n",
    "X_train, y_train = np.array(X_train), np.array(y_train)"
   ]
  },
  {
   "cell_type": "code",
   "execution_count": 11,
   "metadata": {
    "execution": {
     "iopub.execute_input": "2022-11-28T18:15:48.531671Z",
     "iopub.status.busy": "2022-11-28T18:15:48.531330Z",
     "iopub.status.idle": "2022-11-28T18:15:48.546214Z",
     "shell.execute_reply": "2022-11-28T18:15:48.544813Z",
     "shell.execute_reply.started": "2022-11-28T18:15:48.531607Z"
    }
   },
   "outputs": [
    {
     "data": {
      "text/plain": [
       "array([[0.34830578, 0.33963749, 0.36564221, ..., 0.20094563, 0.24428685,\n",
       "        0.2245863 ],\n",
       "       [0.33963749, 0.36564221, 0.33884953, ..., 0.24428685, 0.2245863 ,\n",
       "        0.22064618],\n",
       "       [0.36564221, 0.33884953, 0.33884953, ..., 0.2245863 , 0.22064618,\n",
       "        0.22064618],\n",
       "       ...,\n",
       "       [0.36012608, 0.36800633, 0.35855008, ..., 0.47281326, 0.47202522,\n",
       "        0.47675339],\n",
       "       [0.36800633, 0.35855008, 0.35933804, ..., 0.47202522, 0.47675339,\n",
       "        0.48699761],\n",
       "       [0.35855008, 0.35933804, 0.36485425, ..., 0.47675339, 0.48699761,\n",
       "        0.48305756]])"
      ]
     },
     "execution_count": 11,
     "metadata": {},
     "output_type": "execute_result"
    }
   ],
   "source": [
    "X_train\n",
    "\n"
   ]
  },
  {
   "cell_type": "code",
   "execution_count": 12,
   "metadata": {
    "_uuid": "637f699d3c4bde4b783de56ed4dd70a1bf59760d",
    "execution": {
     "iopub.execute_input": "2022-11-28T18:34:47.330613Z",
     "iopub.status.busy": "2022-11-28T18:34:47.330263Z",
     "iopub.status.idle": "2022-11-28T18:34:47.335499Z",
     "shell.execute_reply": "2022-11-28T18:34:47.334621Z",
     "shell.execute_reply.started": "2022-11-28T18:34:47.330561Z"
    }
   },
   "outputs": [],
   "source": [
    "# Reshaping X_train for efficient modelling\n",
    "#X_train = np.reshape(X_train, (X_train.shape[0],X_train.shape[1],1))\n",
    "#X_train.shape[1]\n",
    "X_train = np.reshape(X_train, (X_train.shape[0],X_train.shape[1],1))\n"
   ]
  },
  {
   "cell_type": "code",
   "execution_count": 13,
   "metadata": {
    "execution": {
     "iopub.execute_input": "2022-11-28T18:42:51.501066Z",
     "iopub.status.busy": "2022-11-28T18:42:51.500572Z",
     "iopub.status.idle": "2022-11-28T18:42:51.506860Z",
     "shell.execute_reply": "2022-11-28T18:42:51.505891Z",
     "shell.execute_reply.started": "2022-11-28T18:42:51.500861Z"
    }
   },
   "outputs": [
    {
     "data": {
      "text/plain": [
       "(1292, 60, 1)"
      ]
     },
     "execution_count": 13,
     "metadata": {},
     "output_type": "execute_result"
    }
   ],
   "source": [
    "X_train.shape\n"
   ]
  },
  {
   "cell_type": "code",
   "execution_count": 14,
   "metadata": {
    "_uuid": "df20eb7e8062dae0a3aff2182aa440faddd0017d",
    "execution": {
     "iopub.execute_input": "2022-11-28T18:43:35.517634Z",
     "iopub.status.busy": "2022-11-28T18:43:35.517167Z",
     "iopub.status.idle": "2022-11-28T18:47:01.392575Z",
     "shell.execute_reply": "2022-11-28T18:47:01.391535Z",
     "shell.execute_reply.started": "2022-11-28T18:43:35.517588Z"
    }
   },
   "outputs": [
    {
     "name": "stdout",
     "output_type": "stream",
     "text": [
      "Epoch 1/50\n",
      "41/41 [==============================] - 15s 117ms/step - loss: 0.0047\n",
      "Epoch 2/50\n",
      "41/41 [==============================] - 5s 120ms/step - loss: 0.0026\n",
      "Epoch 3/50\n",
      "41/41 [==============================] - 5s 113ms/step - loss: 0.0020\n",
      "Epoch 4/50\n",
      "41/41 [==============================] - 4s 108ms/step - loss: 0.0016\n",
      "Epoch 5/50\n",
      "41/41 [==============================] - 5s 124ms/step - loss: 0.0016\n",
      "Epoch 6/50\n",
      "41/41 [==============================] - 5s 128ms/step - loss: 0.0013\n",
      "Epoch 7/50\n",
      "41/41 [==============================] - 4s 109ms/step - loss: 0.0013\n",
      "Epoch 8/50\n",
      "41/41 [==============================] - 5s 120ms/step - loss: 0.0013\n",
      "Epoch 9/50\n",
      "41/41 [==============================] - 5s 115ms/step - loss: 0.0012\n",
      "Epoch 10/50\n",
      "41/41 [==============================] - 4s 109ms/step - loss: 0.0011\n",
      "Epoch 11/50\n",
      "41/41 [==============================] - 4s 103ms/step - loss: 0.0010\n",
      "Epoch 12/50\n",
      "41/41 [==============================] - 5s 119ms/step - loss: 9.5818e-04\n",
      "Epoch 13/50\n",
      "41/41 [==============================] - 5s 120ms/step - loss: 9.7239e-04\n",
      "Epoch 14/50\n",
      "41/41 [==============================] - 5s 111ms/step - loss: 8.7208e-04\n",
      "Epoch 15/50\n",
      "41/41 [==============================] - 5s 110ms/step - loss: 9.3921e-04\n",
      "Epoch 16/50\n",
      "41/41 [==============================] - 5s 117ms/step - loss: 8.6754e-04\n",
      "Epoch 17/50\n",
      "41/41 [==============================] - 5s 117ms/step - loss: 8.3814e-04\n",
      "Epoch 18/50\n",
      "41/41 [==============================] - 5s 111ms/step - loss: 8.9883e-04\n",
      "Epoch 19/50\n",
      "41/41 [==============================] - 5s 114ms/step - loss: 8.1396e-04\n",
      "Epoch 20/50\n",
      "41/41 [==============================] - 4s 109ms/step - loss: 7.9712e-04\n",
      "Epoch 21/50\n",
      "41/41 [==============================] - 4s 106ms/step - loss: 7.6477e-04\n",
      "Epoch 22/50\n",
      "41/41 [==============================] - 4s 109ms/step - loss: 7.7556e-04\n",
      "Epoch 23/50\n",
      "41/41 [==============================] - 5s 113ms/step - loss: 7.7981e-04\n",
      "Epoch 24/50\n",
      "41/41 [==============================] - 4s 105ms/step - loss: 7.1974e-04\n",
      "Epoch 25/50\n",
      "41/41 [==============================] - 4s 107ms/step - loss: 7.6013e-04\n",
      "Epoch 26/50\n",
      "41/41 [==============================] - 5s 118ms/step - loss: 7.4147e-04\n",
      "Epoch 27/50\n",
      "41/41 [==============================] - 4s 108ms/step - loss: 7.2247e-04\n",
      "Epoch 28/50\n",
      "41/41 [==============================] - 4s 104ms/step - loss: 6.7787e-04\n",
      "Epoch 29/50\n",
      "41/41 [==============================] - 4s 108ms/step - loss: 6.5513e-04\n",
      "Epoch 30/50\n",
      "41/41 [==============================] - 5s 116ms/step - loss: 6.9229e-04\n",
      "Epoch 31/50\n",
      "41/41 [==============================] - 5s 115ms/step - loss: 6.4672e-04\n",
      "Epoch 32/50\n",
      "41/41 [==============================] - 4s 104ms/step - loss: 6.9948e-04\n",
      "Epoch 33/50\n",
      "41/41 [==============================] - 5s 127ms/step - loss: 6.5505e-04\n",
      "Epoch 34/50\n",
      "41/41 [==============================] - 5s 115ms/step - loss: 6.7071e-04\n",
      "Epoch 35/50\n",
      "41/41 [==============================] - 4s 105ms/step - loss: 6.5167e-04\n",
      "Epoch 36/50\n",
      "41/41 [==============================] - 5s 115ms/step - loss: 5.9753e-04\n",
      "Epoch 37/50\n",
      "41/41 [==============================] - 5s 133ms/step - loss: 6.1089e-04\n",
      "Epoch 38/50\n",
      "41/41 [==============================] - 5s 122ms/step - loss: 6.4326e-04\n",
      "Epoch 39/50\n",
      "41/41 [==============================] - 5s 111ms/step - loss: 6.0586e-04\n",
      "Epoch 40/50\n",
      "41/41 [==============================] - 5s 126ms/step - loss: 6.2669e-04\n",
      "Epoch 41/50\n",
      "41/41 [==============================] - 5s 126ms/step - loss: 6.6880e-04\n",
      "Epoch 42/50\n",
      "41/41 [==============================] - 5s 123ms/step - loss: 5.8346e-04\n",
      "Epoch 43/50\n",
      "41/41 [==============================] - 6s 140ms/step - loss: 5.9413e-04\n",
      "Epoch 44/50\n",
      "41/41 [==============================] - 6s 142ms/step - loss: 6.0484e-04\n",
      "Epoch 45/50\n",
      "41/41 [==============================] - 6s 149ms/step - loss: 6.1330e-04\n",
      "Epoch 46/50\n",
      "41/41 [==============================] - 7s 165ms/step - loss: 5.2035e-04\n",
      "Epoch 47/50\n",
      "41/41 [==============================] - 5s 116ms/step - loss: 5.6608e-04\n",
      "Epoch 48/50\n",
      "41/41 [==============================] - 5s 133ms/step - loss: 5.7636e-04\n",
      "Epoch 49/50\n",
      "41/41 [==============================] - 6s 134ms/step - loss: 5.3985e-04\n",
      "Epoch 50/50\n",
      "41/41 [==============================] - 5s 130ms/step - loss: 5.1170e-04\n"
     ]
    },
    {
     "data": {
      "text/plain": [
       "<keras.callbacks.History at 0x17bd2800940>"
      ]
     },
     "execution_count": 14,
     "metadata": {},
     "output_type": "execute_result"
    }
   ],
   "source": [
    "# The LSTM architecture\n",
    "regressor = Sequential()\n",
    "# First LSTM layer with Dropout regularisation\n",
    "regressor.add(LSTM(units=50, return_sequences=True, input_shape=(X_train.shape[1],1)))\n",
    "regressor.add(Dropout(0.2))\n",
    "# Second LSTM layer\n",
    "regressor.add(LSTM(units=50, return_sequences=True))\n",
    "regressor.add(Dropout(0.2))\n",
    "# Third LSTM layer\n",
    "regressor.add(LSTM(units=50, return_sequences=True))\n",
    "regressor.add(Dropout(0.2))\n",
    "# Fourth LSTM layer\n",
    "regressor.add(LSTM(units=50))\n",
    "regressor.add(Dropout(0.2))\n",
    "# The output layer\n",
    "regressor.add(Dense(units=1))\n",
    "\n",
    "# Compiling the RNN\n",
    "regressor.compile(optimizer='rmsprop',loss='mean_squared_error')\n",
    "# Fitting to the training set\n",
    "regressor.fit(X_train,y_train,epochs=50,batch_size=32)"
   ]
  },
  {
   "cell_type": "code",
   "execution_count": 15,
   "metadata": {
    "_uuid": "326fa85615622feb484cc4c848edeec6f7133913",
    "execution": {
     "iopub.execute_input": "2022-11-28T18:47:23.698003Z",
     "iopub.status.busy": "2022-11-28T18:47:23.697531Z",
     "iopub.status.idle": "2022-11-28T18:47:23.707026Z",
     "shell.execute_reply": "2022-11-28T18:47:23.705969Z",
     "shell.execute_reply.started": "2022-11-28T18:47:23.697917Z"
    }
   },
   "outputs": [
    {
     "ename": "KeyError",
     "evalue": "'High'",
     "output_type": "error",
     "traceback": [
      "\u001b[1;31m---------------------------------------------------------------------------\u001b[0m",
      "\u001b[1;31mKeyError\u001b[0m                                  Traceback (most recent call last)",
      "\u001b[1;32m~\\anaconda3\\envs\\AI\\lib\\site-packages\\pandas\\core\\indexes\\base.py\u001b[0m in \u001b[0;36mget_loc\u001b[1;34m(self, key, method, tolerance)\u001b[0m\n\u001b[0;32m   3802\u001b[0m             \u001b[1;32mtry\u001b[0m\u001b[1;33m:\u001b[0m\u001b[1;33m\u001b[0m\u001b[1;33m\u001b[0m\u001b[0m\n\u001b[1;32m-> 3803\u001b[1;33m                 \u001b[1;32mreturn\u001b[0m \u001b[0mself\u001b[0m\u001b[1;33m.\u001b[0m\u001b[0m_engine\u001b[0m\u001b[1;33m.\u001b[0m\u001b[0mget_loc\u001b[0m\u001b[1;33m(\u001b[0m\u001b[0mcasted_key\u001b[0m\u001b[1;33m)\u001b[0m\u001b[1;33m\u001b[0m\u001b[1;33m\u001b[0m\u001b[0m\n\u001b[0m\u001b[0;32m   3804\u001b[0m             \u001b[1;32mexcept\u001b[0m \u001b[0mKeyError\u001b[0m \u001b[1;32mas\u001b[0m \u001b[0merr\u001b[0m\u001b[1;33m:\u001b[0m\u001b[1;33m\u001b[0m\u001b[1;33m\u001b[0m\u001b[0m\n",
      "\u001b[1;32m~\\anaconda3\\envs\\AI\\lib\\site-packages\\pandas\\_libs\\index.pyx\u001b[0m in \u001b[0;36mpandas._libs.index.IndexEngine.get_loc\u001b[1;34m()\u001b[0m\n",
      "\u001b[1;32m~\\anaconda3\\envs\\AI\\lib\\site-packages\\pandas\\_libs\\index.pyx\u001b[0m in \u001b[0;36mpandas._libs.index.IndexEngine.get_loc\u001b[1;34m()\u001b[0m\n",
      "\u001b[1;32mpandas\\_libs\\hashtable_class_helper.pxi\u001b[0m in \u001b[0;36mpandas._libs.hashtable.PyObjectHashTable.get_item\u001b[1;34m()\u001b[0m\n",
      "\u001b[1;32mpandas\\_libs\\hashtable_class_helper.pxi\u001b[0m in \u001b[0;36mpandas._libs.hashtable.PyObjectHashTable.get_item\u001b[1;34m()\u001b[0m\n",
      "\u001b[1;31mKeyError\u001b[0m: 'High'",
      "\nThe above exception was the direct cause of the following exception:\n",
      "\u001b[1;31mKeyError\u001b[0m                                  Traceback (most recent call last)",
      "\u001b[1;32m~\\AppData\\Local\\Temp\\ipykernel_38004\\1651778432.py\u001b[0m in \u001b[0;36m<module>\u001b[1;34m\u001b[0m\n\u001b[0;32m      2\u001b[0m \u001b[1;31m# The following has been done so forst 60 entires of test set have 60 previous values which is impossible to get unless we take the whole\u001b[0m\u001b[1;33m\u001b[0m\u001b[1;33m\u001b[0m\u001b[0m\n\u001b[0;32m      3\u001b[0m \u001b[1;31m# 'High' attribute data for processing\u001b[0m\u001b[1;33m\u001b[0m\u001b[1;33m\u001b[0m\u001b[0m\n\u001b[1;32m----> 4\u001b[1;33m \u001b[0mdataset_total\u001b[0m \u001b[1;33m=\u001b[0m \u001b[0mpd\u001b[0m\u001b[1;33m.\u001b[0m\u001b[0mconcat\u001b[0m\u001b[1;33m(\u001b[0m\u001b[1;33m(\u001b[0m\u001b[0mdataset\u001b[0m\u001b[1;33m[\u001b[0m\u001b[1;34m\"High\"\u001b[0m\u001b[1;33m]\u001b[0m\u001b[1;33m[\u001b[0m\u001b[1;33m:\u001b[0m\u001b[1;34m'2016'\u001b[0m\u001b[1;33m]\u001b[0m\u001b[1;33m,\u001b[0m\u001b[0mdataset\u001b[0m\u001b[1;33m[\u001b[0m\u001b[1;34m\"High\"\u001b[0m\u001b[1;33m]\u001b[0m\u001b[1;33m[\u001b[0m\u001b[1;34m'2017'\u001b[0m\u001b[1;33m:\u001b[0m\u001b[1;33m]\u001b[0m\u001b[1;33m)\u001b[0m\u001b[1;33m,\u001b[0m\u001b[0maxis\u001b[0m\u001b[1;33m=\u001b[0m\u001b[1;36m0\u001b[0m\u001b[1;33m)\u001b[0m\u001b[1;33m\u001b[0m\u001b[1;33m\u001b[0m\u001b[0m\n\u001b[0m\u001b[0;32m      5\u001b[0m \u001b[0minputs\u001b[0m \u001b[1;33m=\u001b[0m \u001b[0mdataset_total\u001b[0m\u001b[1;33m[\u001b[0m\u001b[0mlen\u001b[0m\u001b[1;33m(\u001b[0m\u001b[0mdataset_total\u001b[0m\u001b[1;33m)\u001b[0m\u001b[1;33m-\u001b[0m\u001b[0mlen\u001b[0m\u001b[1;33m(\u001b[0m\u001b[0mtest_set\u001b[0m\u001b[1;33m)\u001b[0m \u001b[1;33m-\u001b[0m \u001b[1;36m60\u001b[0m\u001b[1;33m:\u001b[0m\u001b[1;33m]\u001b[0m\u001b[1;33m.\u001b[0m\u001b[0mvalues\u001b[0m\u001b[1;33m\u001b[0m\u001b[1;33m\u001b[0m\u001b[0m\n\u001b[0;32m      6\u001b[0m \u001b[0minputs\u001b[0m \u001b[1;33m=\u001b[0m \u001b[0minputs\u001b[0m\u001b[1;33m.\u001b[0m\u001b[0mreshape\u001b[0m\u001b[1;33m(\u001b[0m\u001b[1;33m-\u001b[0m\u001b[1;36m1\u001b[0m\u001b[1;33m,\u001b[0m\u001b[1;36m1\u001b[0m\u001b[1;33m)\u001b[0m\u001b[1;33m\u001b[0m\u001b[1;33m\u001b[0m\u001b[0m\n",
      "\u001b[1;32m~\\anaconda3\\envs\\AI\\lib\\site-packages\\pandas\\core\\frame.py\u001b[0m in \u001b[0;36m__getitem__\u001b[1;34m(self, key)\u001b[0m\n\u001b[0;32m   3802\u001b[0m             \u001b[1;32mif\u001b[0m \u001b[0mself\u001b[0m\u001b[1;33m.\u001b[0m\u001b[0mcolumns\u001b[0m\u001b[1;33m.\u001b[0m\u001b[0mnlevels\u001b[0m \u001b[1;33m>\u001b[0m \u001b[1;36m1\u001b[0m\u001b[1;33m:\u001b[0m\u001b[1;33m\u001b[0m\u001b[1;33m\u001b[0m\u001b[0m\n\u001b[0;32m   3803\u001b[0m                 \u001b[1;32mreturn\u001b[0m \u001b[0mself\u001b[0m\u001b[1;33m.\u001b[0m\u001b[0m_getitem_multilevel\u001b[0m\u001b[1;33m(\u001b[0m\u001b[0mkey\u001b[0m\u001b[1;33m)\u001b[0m\u001b[1;33m\u001b[0m\u001b[1;33m\u001b[0m\u001b[0m\n\u001b[1;32m-> 3804\u001b[1;33m             \u001b[0mindexer\u001b[0m \u001b[1;33m=\u001b[0m \u001b[0mself\u001b[0m\u001b[1;33m.\u001b[0m\u001b[0mcolumns\u001b[0m\u001b[1;33m.\u001b[0m\u001b[0mget_loc\u001b[0m\u001b[1;33m(\u001b[0m\u001b[0mkey\u001b[0m\u001b[1;33m)\u001b[0m\u001b[1;33m\u001b[0m\u001b[1;33m\u001b[0m\u001b[0m\n\u001b[0m\u001b[0;32m   3805\u001b[0m             \u001b[1;32mif\u001b[0m \u001b[0mis_integer\u001b[0m\u001b[1;33m(\u001b[0m\u001b[0mindexer\u001b[0m\u001b[1;33m)\u001b[0m\u001b[1;33m:\u001b[0m\u001b[1;33m\u001b[0m\u001b[1;33m\u001b[0m\u001b[0m\n\u001b[0;32m   3806\u001b[0m                 \u001b[0mindexer\u001b[0m \u001b[1;33m=\u001b[0m \u001b[1;33m[\u001b[0m\u001b[0mindexer\u001b[0m\u001b[1;33m]\u001b[0m\u001b[1;33m\u001b[0m\u001b[1;33m\u001b[0m\u001b[0m\n",
      "\u001b[1;32m~\\anaconda3\\envs\\AI\\lib\\site-packages\\pandas\\core\\indexes\\base.py\u001b[0m in \u001b[0;36mget_loc\u001b[1;34m(self, key, method, tolerance)\u001b[0m\n\u001b[0;32m   3803\u001b[0m                 \u001b[1;32mreturn\u001b[0m \u001b[0mself\u001b[0m\u001b[1;33m.\u001b[0m\u001b[0m_engine\u001b[0m\u001b[1;33m.\u001b[0m\u001b[0mget_loc\u001b[0m\u001b[1;33m(\u001b[0m\u001b[0mcasted_key\u001b[0m\u001b[1;33m)\u001b[0m\u001b[1;33m\u001b[0m\u001b[1;33m\u001b[0m\u001b[0m\n\u001b[0;32m   3804\u001b[0m             \u001b[1;32mexcept\u001b[0m \u001b[0mKeyError\u001b[0m \u001b[1;32mas\u001b[0m \u001b[0merr\u001b[0m\u001b[1;33m:\u001b[0m\u001b[1;33m\u001b[0m\u001b[1;33m\u001b[0m\u001b[0m\n\u001b[1;32m-> 3805\u001b[1;33m                 \u001b[1;32mraise\u001b[0m \u001b[0mKeyError\u001b[0m\u001b[1;33m(\u001b[0m\u001b[0mkey\u001b[0m\u001b[1;33m)\u001b[0m \u001b[1;32mfrom\u001b[0m \u001b[0merr\u001b[0m\u001b[1;33m\u001b[0m\u001b[1;33m\u001b[0m\u001b[0m\n\u001b[0m\u001b[0;32m   3806\u001b[0m             \u001b[1;32mexcept\u001b[0m \u001b[0mTypeError\u001b[0m\u001b[1;33m:\u001b[0m\u001b[1;33m\u001b[0m\u001b[1;33m\u001b[0m\u001b[0m\n\u001b[0;32m   3807\u001b[0m                 \u001b[1;31m# If we have a listlike key, _check_indexing_error will raise\u001b[0m\u001b[1;33m\u001b[0m\u001b[1;33m\u001b[0m\u001b[0m\n",
      "\u001b[1;31mKeyError\u001b[0m: 'High'"
     ]
    }
   ],
   "source": [
    "# Now to get the test set ready in a similar way as the training set.\n",
    "# The following has been done so forst 60 entires of test set have 60 previous values which is impossible to get unless we take the whole \n",
    "# 'High' attribute data for processing\n",
    "dataset_total = pd.concat((dataset[\"High\"][:'2016'],dataset[\"High\"]['2017':]),axis=0)\n",
    "inputs = dataset_total[len(dataset_total)-len(test_set) - 60:].values\n",
    "inputs = inputs.reshape(-1,1)\n",
    "inputs  = sc.transform(inputs)"
   ]
  },
  {
   "cell_type": "code",
   "execution_count": null,
   "metadata": {},
   "outputs": [],
   "source": [
    "inputs"
   ]
  },
  {
   "cell_type": "code",
   "execution_count": null,
   "metadata": {
    "_uuid": "435b8024814939ac4fbd372baa0cd8cfc78f80bc",
    "execution": {
     "iopub.execute_input": "2022-11-28T18:47:33.908254Z",
     "iopub.status.busy": "2022-11-28T18:47:33.907882Z",
     "iopub.status.idle": "2022-11-28T18:47:35.044684Z",
     "shell.execute_reply": "2022-11-28T18:47:35.043754Z",
     "shell.execute_reply.started": "2022-11-28T18:47:33.908199Z"
    }
   },
   "outputs": [],
   "source": [
    "# Preparing X_test and predicting the prices\n",
    "X_test = []\n",
    "for i in range(60,321):\n",
    "    X_test.append(inputs[i-60:i,0])\n",
    "X_test = np.array(X_test)\n",
    "X_test = np.reshape(X_test, (X_test.shape[0],X_test.shape[1],1))\n",
    "predicted_stock_price = regressor.predict(X_test)\n",
    "predicted_stock_price = sc.inverse_transform(predicted_stock_price)"
   ]
  },
  {
   "cell_type": "code",
   "execution_count": null,
   "metadata": {
    "_uuid": "b774a8e79e53eac89694cafef6b11aa99226b95f",
    "execution": {
     "iopub.execute_input": "2022-11-28T18:47:37.899501Z",
     "iopub.status.busy": "2022-11-28T18:47:37.898870Z",
     "iopub.status.idle": "2022-11-28T18:47:38.192168Z",
     "shell.execute_reply": "2022-11-28T18:47:38.191303Z",
     "shell.execute_reply.started": "2022-11-28T18:47:37.899428Z"
    }
   },
   "outputs": [],
   "source": [
    "# Visualizing the results for LSTM\n",
    "plot_predictions(test_set,predicted_stock_price)"
   ]
  },
  {
   "cell_type": "code",
   "execution_count": null,
   "metadata": {
    "_uuid": "f6f6db0b6e1f17ac63c06ce49856873d98ba5f00",
    "execution": {
     "iopub.execute_input": "2022-11-28T18:47:48.547139Z",
     "iopub.status.busy": "2022-11-28T18:47:48.546745Z",
     "iopub.status.idle": "2022-11-28T18:47:48.552184Z",
     "shell.execute_reply": "2022-11-28T18:47:48.551455Z",
     "shell.execute_reply.started": "2022-11-28T18:47:48.547057Z"
    }
   },
   "outputs": [],
   "source": [
    "# Evaluating our model\n",
    "return_rmse(test_set,predicted_stock_price)"
   ]
  },
  {
   "cell_type": "markdown",
   "metadata": {
    "_uuid": "a4cf704ab3cd091f63b7b9a1b9224a49f0913171"
   },
   "source": [
    "Truth be told. That's one awesome score. \n",
    "\n",
    "LSTM is not the only kind of unit that has taken the world of Deep Learning by a storm. We have **Gated Recurrent Units(GRU)**. It's not known, which is better: GRU or LSTM becuase they have comparable performances. GRUs are easier to train than LSTMs.\n",
    "\n",
    "## Gated Recurrent Units\n",
    "In simple words, the GRU unit does not have to use a memory unit to control the flow of information like the LSTM unit. It can directly makes use of the all hidden states without any control. GRUs have fewer parameters and thus may train a bit faster or need less data to generalize. But, with large data, the LSTMs with higher expressiveness may lead to better results.\n",
    "\n",
    "They are almost similar to LSTMs except that they have two gates: reset gate and update gate. Reset gate determines how to combine new input to previous memory and update gate determines how much of the previous state to keep. Update gate in GRU is what input gate and forget gate were in LSTM. We don't have the second non linearity in GRU before calculating the outpu, .neither they have the output gate.\n",
    "\n",
    "Source: [Quora](https://www.quora.com/Whats-the-difference-between-LSTM-and-GRU-Why-are-GRU-efficient-to-train)\n",
    "\n",
    "<img src=\"https://cdnpythonmachinelearning.azureedge.net/wp-content/uploads/2017/11/GRU.png?x31195\">"
   ]
  },
  {
   "cell_type": "code",
   "execution_count": null,
   "metadata": {
    "_uuid": "e9b616c5112d707d16cc4b277007e286cffd58f6",
    "execution": {
     "iopub.execute_input": "2022-11-28T18:49:30.871661Z",
     "iopub.status.busy": "2022-11-28T18:49:30.871039Z",
     "iopub.status.idle": "2022-11-28T18:50:48.903752Z",
     "shell.execute_reply": "2022-11-28T18:50:48.902713Z",
     "shell.execute_reply.started": "2022-11-28T18:49:30.871596Z"
    }
   },
   "outputs": [],
   "source": [
    "# The GRU architecture\n",
    "regressorGRU = Sequential()\n",
    "# First GRU layer with Dropout regularisation\n",
    "regressorGRU.add(GRU(units=50, return_sequences=True, input_shape=(X_train.shape[1],1), activation='tanh'))\n",
    "regressorGRU.add(Dropout(0.2))\n",
    "# Second GRU layer\n",
    "regressorGRU.add(GRU(units=50, return_sequences=True, input_shape=(X_train.shape[1],1), activation='tanh'))\n",
    "regressorGRU.add(Dropout(0.2))\n",
    "# Third GRU layer\n",
    "regressorGRU.add(GRU(units=50, return_sequences=True, input_shape=(X_train.shape[1],1), activation='tanh'))\n",
    "regressorGRU.add(Dropout(0.2))\n",
    "# Fourth GRU layer\n",
    "regressorGRU.add(GRU(units=50, activation='tanh'))\n",
    "regressorGRU.add(Dropout(0.2))\n",
    "# The output layer\n",
    "regressorGRU.add(Dense(units=1))\n",
    "# Compiling the RNN\n",
    "regressorGRU.compile(optimizer=SGD(lr=0.01, decay=1e-7, momentum=0.9, nesterov=False),loss='mean_squared_error')\n",
    "# Fitting to the training set\n",
    "regressorGRU.fit(X_train,y_train,epochs=50,batch_size=150)"
   ]
  },
  {
   "cell_type": "markdown",
   "metadata": {
    "_kg_hide-input": false,
    "_uuid": "98628386f141545aa77d70f48478ac82bd9c1608"
   },
   "source": [
    "The current version version uses a dense GRU network with 100 units as opposed to the GRU network with 50 units in previous version"
   ]
  },
  {
   "cell_type": "code",
   "execution_count": null,
   "metadata": {
    "_uuid": "f20ca021ea3ce05f6c6a98db93775f1b2c9c022c",
    "execution": {
     "iopub.execute_input": "2022-11-28T18:50:58.711974Z",
     "iopub.status.busy": "2022-11-28T18:50:58.711285Z",
     "iopub.status.idle": "2022-11-28T18:51:00.063565Z",
     "shell.execute_reply": "2022-11-28T18:51:00.062553Z",
     "shell.execute_reply.started": "2022-11-28T18:50:58.711912Z"
    }
   },
   "outputs": [],
   "source": [
    "# Preparing X_test and predicting the prices\n",
    "X_test = []\n",
    "for i in range(60,311):\n",
    "    X_test.append(inputs[i-60:i,0])\n",
    "X_test = np.array(X_test)\n",
    "X_test = np.reshape(X_test, (X_test.shape[0],X_test.shape[1],1))\n",
    "GRU_predicted_stock_price = regressorGRU.predict(X_test)\n",
    "GRU_predicted_stock_price = sc.inverse_transform(GRU_predicted_stock_price)"
   ]
  },
  {
   "cell_type": "code",
   "execution_count": null,
   "metadata": {
    "_uuid": "da8e9fa28510aa03e7dd06d5070d7b16e05ebb6e",
    "execution": {
     "iopub.execute_input": "2022-11-28T18:51:04.954529Z",
     "iopub.status.busy": "2022-11-28T18:51:04.954211Z",
     "iopub.status.idle": "2022-11-28T18:51:05.257314Z",
     "shell.execute_reply": "2022-11-28T18:51:05.256525Z",
     "shell.execute_reply.started": "2022-11-28T18:51:04.954486Z"
    }
   },
   "outputs": [],
   "source": [
    "# Visualizing the results for GRU\n",
    "plot_predictions(test_set,GRU_predicted_stock_price)"
   ]
  },
  {
   "cell_type": "code",
   "execution_count": null,
   "metadata": {
    "_uuid": "23aec5ab1a717e3458c8d5cae68db0e7add091ae",
    "execution": {
     "iopub.execute_input": "2022-11-28T18:51:09.096377Z",
     "iopub.status.busy": "2022-11-28T18:51:09.095738Z",
     "iopub.status.idle": "2022-11-28T18:51:09.101617Z",
     "shell.execute_reply": "2022-11-28T18:51:09.100569Z",
     "shell.execute_reply.started": "2022-11-28T18:51:09.096321Z"
    }
   },
   "outputs": [],
   "source": [
    "# Evaluating GRU\n",
    "return_rmse(test_set,GRU_predicted_stock_price)"
   ]
  },
  {
   "cell_type": "markdown",
   "metadata": {
    "_uuid": "3aa099ecc057f972525df4c7ef4209744d27106a"
   },
   "source": [
    "## Sequence Generation\n",
    "Here, I will generate a sequence using just initial 60 values instead of using last 60 values for every new prediction. **Due to doubts in various comments about predictions making use of test set values, I have decided to include sequence generation.** The above models make use of test set so it is using last 60 true values for predicting the new value(I will call it a benchmark). This is why the error is so low. Strong models can bring similar results like above models for sequences too but they require more than just data which has previous values. In case of stocks, we need to know the sentiments of the market, the movement of other stocks and a lot more. So, don't expect a remotely accurate plot. The error will be great and the best I can do is generate the trend similar to the test set.\n",
    "\n",
    "I will use GRU model for predictions. You can try this using LSTMs also. I have modified GRU model above to get the best sequence possible. I have run the model four times and two times I got error of around 8 to 9. The worst case had an error of around 11. Let's see what this iterations.\n",
    "\n",
    "The GRU model in the previous versions is fine too. Just a little tweaking was required to get good sequences. **The main goal of this kernel is to show how to build RNN models. How you predict data and what kind of data you predict is up to you. I can't give you some 100 lines of code where you put the destination of training and test set and get world-class results. That's something you have to do yourself.**"
   ]
  },
  {
   "cell_type": "code",
   "execution_count": null,
   "metadata": {
    "_uuid": "2949de3c668a788117221000567aaa7033cd1a17",
    "execution": {
     "iopub.execute_input": "2022-11-28T18:51:41.102495Z",
     "iopub.status.busy": "2022-11-28T18:51:41.102170Z",
     "iopub.status.idle": "2022-11-28T18:51:47.050298Z",
     "shell.execute_reply": "2022-11-28T18:51:47.049281Z",
     "shell.execute_reply.started": "2022-11-28T18:51:41.102444Z"
    }
   },
   "outputs": [],
   "source": [
    "# Preparing sequence data\n",
    "initial_sequence = X_train[2708,:]\n",
    "sequence = []\n",
    "for i in range(251):\n",
    "    new_prediction = regressorGRU.predict(initial_sequence.reshape(initial_sequence.shape[1],initial_sequence.shape[0],1))\n",
    "    initial_sequence = initial_sequence[1:]\n",
    "    initial_sequence = np.append(initial_sequence,new_prediction,axis=0)\n",
    "    sequence.append(new_prediction)\n",
    "sequence = sc.inverse_transform(np.array(sequence).reshape(251,1))"
   ]
  },
  {
   "cell_type": "code",
   "execution_count": null,
   "metadata": {},
   "outputs": [],
   "source": [
    "#X_train\n",
    "initial_sequence.shape\n"
   ]
  },
  {
   "cell_type": "code",
   "execution_count": null,
   "metadata": {
    "_uuid": "be390cade0cf4b31cb99e069570e1be2c5594c8b",
    "execution": {
     "iopub.execute_input": "2022-11-28T18:51:52.160912Z",
     "iopub.status.busy": "2022-11-28T18:51:52.160576Z",
     "iopub.status.idle": "2022-11-28T18:51:52.465275Z",
     "shell.execute_reply": "2022-11-28T18:51:52.463870Z",
     "shell.execute_reply.started": "2022-11-28T18:51:52.160868Z"
    }
   },
   "outputs": [],
   "source": [
    "# Visualizing the sequence\n",
    "plot_predictions(test_set,sequence)"
   ]
  },
  {
   "cell_type": "code",
   "execution_count": null,
   "metadata": {
    "_uuid": "59095a00a05a68b97d76fc13bb2d618c337e1c80",
    "execution": {
     "iopub.execute_input": "2022-11-28T18:51:56.066404Z",
     "iopub.status.busy": "2022-11-28T18:51:56.066039Z",
     "iopub.status.idle": "2022-11-28T18:51:56.072431Z",
     "shell.execute_reply": "2022-11-28T18:51:56.071215Z",
     "shell.execute_reply.started": "2022-11-28T18:51:56.066349Z"
    }
   },
   "outputs": [],
   "source": [
    "# Evaluating the sequence\n",
    "return_rmse(test_set,sequence)"
   ]
  },
  {
   "cell_type": "markdown",
   "metadata": {
    "_uuid": "c1003e9a17b23c1e3c7b7298250f8b071a93ae91"
   },
   "source": [
    "So, GRU works better than LSTM in this case. Bidirectional LSTM is also a good way so make the model stronger. But this may vary for different data sets. **Applying both LSTM and GRU together gave even better results.** "
   ]
  },
  {
   "cell_type": "markdown",
   "metadata": {
    "_uuid": "50534b0ff4065793ebce8997bd6da6ddc0af070f"
   },
   "source": [
    "#### I was going to cover text generation using LSTM but already an excellent kernel by [Shivam Bansal](https://www.kaggle.com/shivamb) on the mentioned topic exists. Link for that kernel here: https://www.kaggle.com/shivamb/beginners-guide-to-text-generation-using-lstms"
   ]
  },
  {
   "cell_type": "markdown",
   "metadata": {
    "_uuid": "9164ee2b253583928226c76f6a5f5148717227d7"
   },
   "source": [
    "#### This is certainly not the end. Stay tuned for more stuff!"
   ]
  }
 ],
 "metadata": {
  "hide_input": false,
  "kernelspec": {
   "display_name": "Python 3 (ipykernel)",
   "language": "python",
   "name": "python3"
  },
  "language_info": {
   "codemirror_mode": {
    "name": "ipython",
    "version": 3
   },
   "file_extension": ".py",
   "mimetype": "text/x-python",
   "name": "python",
   "nbconvert_exporter": "python",
   "pygments_lexer": "ipython3",
   "version": "3.9.13"
  },
  "varInspector": {
   "cols": {
    "lenName": 16,
    "lenType": 16,
    "lenVar": 40
   },
   "kernels_config": {
    "python": {
     "delete_cmd_postfix": "",
     "delete_cmd_prefix": "del ",
     "library": "var_list.py",
     "varRefreshCmd": "print(var_dic_list())"
    },
    "r": {
     "delete_cmd_postfix": ") ",
     "delete_cmd_prefix": "rm(",
     "library": "var_list.r",
     "varRefreshCmd": "cat(var_dic_list()) "
    }
   },
   "types_to_exclude": [
    "module",
    "function",
    "builtin_function_or_method",
    "instance",
    "_Feature"
   ],
   "window_display": false
  }
 },
 "nbformat": 4,
 "nbformat_minor": 4
}
