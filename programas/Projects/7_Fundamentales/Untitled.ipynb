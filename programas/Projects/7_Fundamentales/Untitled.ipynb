{
 "cells": [
  {
   "cell_type": "code",
   "execution_count": 1,
   "id": "379228bf",
   "metadata": {},
   "outputs": [],
   "source": [
    "# -*- coding: utf-8 -*-\n",
    "\"\"\"\n",
    "Created on Fri Oct  8 10:48:04 2021\n",
    "\n",
    "@author: J3\n",
    "\n",
    "Comentarios:\n",
    "    \n",
    "    Fuente de datos https://finnhub.io/docs/api/financials-reported\n",
    "    \n",
    "    Pagina interesante : https://finviz.com/quote.ashx?t=app#statements\n",
    "    \n",
    "    PROBADO Y FUNCIONA BIEN\n",
    "\n",
    "\"\"\"\n",
    "from pandas.io.json import json_normalize\n",
    "import pandas as pd\n",
    "from fhub import Session\n",
    "import json\n",
    "\n",
    "import fhub as fn\n",
    "\n",
    "\n",
    "# 0.- Debemos abrirnos una cuenta en FINNHUB\n",
    "hub = Session(\"sandbox_c5g0442ad3i9cg8ubm4g \") \n",
    "\n",
    "# Download prices time serie of Tesla.\n",
    "#tsla = hub.candle('TSLA')"
   ]
  },
  {
   "cell_type": "code",
   "execution_count": 4,
   "id": "1bab1c72",
   "metadata": {},
   "outputs": [
    {
     "name": "stdout",
     "output_type": "stream",
     "text": [
      "           accessNumber symbol      cik  year  quarter  form  \\\n",
      "0  0001564590-21-004599   TSLA  1318605  2020        0  10-K   \n",
      "\n",
      "             startDate              endDate            filedDate  \\\n",
      "0  2020-01-01 00:00:00  2020-12-31 00:00:00  2021-02-08 00:00:00   \n",
      "\n",
      "          acceptedDate                                                 bs  \\\n",
      "0  2021-02-08 07:27:23  [{'unit': 'usd', 'label': 'Cash and cash equiv...   \n",
      "\n",
      "                                                  cf  \\\n",
      "0  [{'unit': 'usd', 'label': 'Net income (loss)',...   \n",
      "\n",
      "                                                  ic  \n",
      "0  [{'unit': 'usd', 'label': 'Automotive leasing'...  \n"
     ]
    }
   ],
   "source": [
    "# Download prices for several tickers from a date.\n",
    "#data = hub.candle(['AMZN', 'NFLX', 'DIS'], start=\"2018-01-01\")\n",
    "\n",
    "# Download prices and bollinger bands indicator for several tickers.\n",
    "#data = hub.indicator(['AAPL', 'MSFT'], start='2019-01-01', indicator='bbands',\n",
    "#                 indicator_fields={'timeperiod': 10})\n",
    "\n",
    "\n",
    "# 1.- Recogemos todos los reportes finacieros de un simbolo\n",
    "data3=hub.financials_as_reported(symbol='TSLA', freq='annual')\n",
    "\n",
    "# 2.- Filtramos la base de datos por año concreto \n",
    "aux_01 = data3.loc[:, 'year'] == 2020\n",
    "data4 = data3.loc[aux_01]\n",
    "\n",
    "#print(aux_01)\n",
    "print(data4.head())\n",
    "\n",
    "# 3.- Ahora tenemos una df con datos formateados en JSON. Tenemos que ordenar el contenido para encontrar los datos fundamentales\n",
    "json_struct = json.loads(data4.to_json(orient=\"records\"))\n",
    "incomeStatement = pd.json_normalize(json_struct, 'ic')\n",
    "balanceSheet = pd.json_normalize(json_struct, 'bs')\n",
    "CashFlow = pd.json_normalize(json_struct, 'cf')"
   ]
  },
  {
   "cell_type": "code",
   "execution_count": 5,
   "id": "544e49eb",
   "metadata": {},
   "outputs": [
    {
     "name": "stdout",
     "output_type": "stream",
     "text": [
      "           accessNumber symbol      cik  year  quarter  form  \\\n",
      "0  0001564590-21-004599   TSLA  1318605  2020        0  10-K   \n",
      "\n",
      "             startDate              endDate            filedDate  \\\n",
      "0  2020-01-01 00:00:00  2020-12-31 00:00:00  2021-02-08 00:00:00   \n",
      "\n",
      "          acceptedDate                                                 bs  \\\n",
      "0  2021-02-08 07:27:23  [{'unit': 'usd', 'label': 'Cash and cash equiv...   \n",
      "\n",
      "                                                  cf  \\\n",
      "0  [{'unit': 'usd', 'label': 'Net income (loss)',...   \n",
      "\n",
      "                                                  ic  \n",
      "0  [{'unit': 'usd', 'label': 'Automotive leasing'...  \n"
     ]
    }
   ],
   "source": [
    "print(data4.head())"
   ]
  },
  {
   "cell_type": "code",
   "execution_count": null,
   "id": "f22e8146",
   "metadata": {},
   "outputs": [],
   "source": [
    "#   4.- datos ordenados: tenemos en los tres dataframe (income... balance... cashf...) \n",
    "#   los datos ordenados para un año\n",
    "\n",
    "# 5.- Busco el campo desado. Ojo, que los literales de los campos no son constantes.\n",
    "datoConcreto = incomeStatement.loc[incomeStatement['concept'].str.fullmatch(\"Revenues\", case=False)]\n",
    "\n",
    "# 6.- A partir de aquí ya tengo los datos ordenados en el dataframe. Busco el dato y lo trabajo"
   ]
  },
  {
   "cell_type": "code",
   "execution_count": null,
   "id": "a97accbe",
   "metadata": {},
   "outputs": [],
   "source": [
    "datoConcreto\n"
   ]
  },
  {
   "cell_type": "code",
   "execution_count": null,
   "id": "a7e8b7ee",
   "metadata": {},
   "outputs": [],
   "source": []
  }
 ],
 "metadata": {
  "kernelspec": {
   "display_name": "Python 3 (ipykernel)",
   "language": "python",
   "name": "python3"
  },
  "language_info": {
   "codemirror_mode": {
    "name": "ipython",
    "version": 3
   },
   "file_extension": ".py",
   "mimetype": "text/x-python",
   "name": "python",
   "nbconvert_exporter": "python",
   "pygments_lexer": "ipython3",
   "version": "3.8.12"
  }
 },
 "nbformat": 4,
 "nbformat_minor": 5
}
